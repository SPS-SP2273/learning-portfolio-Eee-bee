{
 "cells": [
  {
   "attachments": {},
   "cell_type": "markdown",
   "id": "123456",
   "metadata": {},
   "source": [
    "<div style=\"text-align:left;font-size:2em\"><span style=\"font-weight:bolder;font-size:1.25em\">SP2273 | Learning Portfolio</span><br><br><span style=\"font-weight:bold;color:darkred\">Storing Data (Good)</span></div>"
   ]
  },
  {
   "cell_type": "code",
   "execution_count": 4,
   "id": "093bd667",
   "metadata": {},
   "outputs": [],
   "source": [
    "import numpy as np"
   ]
  },
  {
   "attachments": {},
   "cell_type": "markdown",
   "id": "123456",
   "metadata": {},
   "source": [
    "# What to expect in this chapter"
   ]
  },
  {
   "attachments": {},
   "cell_type": "markdown",
   "id": "123456",
   "metadata": {},
   "source": [
    "# 1 Subsetting: Indexing and Slicing"
   ]
  },
  {
   "cell_type": "markdown",
   "id": "59df1984",
   "metadata": {},
   "source": [
    "indexing and slicing are forms of subsetting\n",
    "\n",
    "indexing: picking an element\n",
    "\n",
    "slicing: selecting a range of elements"
   ]
  },
  {
   "attachments": {},
   "cell_type": "markdown",
   "id": "123456",
   "metadata": {},
   "source": [
    "## 1.1 Lists & Arrays in 1D | Subsetting & Indexing"
   ]
  },
  {
   "cell_type": "markdown",
   "id": "819e0679",
   "metadata": {},
   "source": [
    "need to indicate where to start and end in slicing\n",
    "\n",
    "applies for both lists and arrays"
   ]
  },
  {
   "cell_type": "markdown",
   "id": "d77ee6db",
   "metadata": {},
   "source": [
    "list_name[x:y]\n",
    "this will return y - x elements\n",
    "[0] gives you the first element"
   ]
  },
  {
   "cell_type": "code",
   "execution_count": null,
   "id": "22e67474",
   "metadata": {},
   "outputs": [
    {
     "data": {
      "text/plain": [
       "['a1', 'b2', 'c3', 'd4', 'e5']"
      ]
     },
     "execution_count": 3,
     "metadata": {},
     "output_type": "execute_result"
    }
   ],
   "source": [
    "py_list = [\"a1\", \"b2\", \"c3\", \"d4\", \"e5\", \"f6\", \"g7\", \"h8\", \"i9\", \"j10\"]\n",
    "np_array = np.array(py_list)\n",
    "\n",
    "py_list[:5] # Index 0 to index 4"
   ]
  },
  {
   "cell_type": "code",
   "execution_count": null,
   "id": "2ed2556a",
   "metadata": {},
   "outputs": [
    {
     "data": {
      "text/plain": [
       "['f6', 'g7', 'h8', 'i9', 'j10']"
      ]
     },
     "execution_count": 4,
     "metadata": {},
     "output_type": "execute_result"
    }
   ],
   "source": [
    "py_list[5:] # Index 5 to the end"
   ]
  },
  {
   "cell_type": "code",
   "execution_count": null,
   "id": "88326c2c",
   "metadata": {},
   "outputs": [
    {
     "data": {
      "text/plain": [
       "['j10', 'i9', 'h8', 'g7', 'f6', 'e5', 'd4', 'c3', 'b2', 'a1']"
      ]
     },
     "execution_count": 5,
     "metadata": {},
     "output_type": "execute_result"
    }
   ],
   "source": [
    "py_list[::-1] # reverses the list"
   ]
  },
  {
   "cell_type": "code",
   "execution_count": null,
   "id": "ef488963",
   "metadata": {},
   "outputs": [
    {
     "data": {
      "text/plain": [
       "['a1', 'b2', 'c3', 'd4', 'e5', 'f6', 'g7', 'h8', 'i9', 'j10']"
      ]
     },
     "execution_count": 6,
     "metadata": {},
     "output_type": "execute_result"
    }
   ],
   "source": [
    "py_list[::1]"
   ]
  },
  {
   "cell_type": "code",
   "execution_count": 6,
   "id": "ef2fadae",
   "metadata": {},
   "outputs": [
    {
     "data": {
      "text/plain": [
       "['f6', 'e5', 'd4']"
      ]
     },
     "execution_count": 6,
     "metadata": {},
     "output_type": "execute_result"
    }
   ],
   "source": [
    "py_list[5:2:-1] # Index 5 to 3 in reverse"
   ]
  },
  {
   "cell_type": "code",
   "execution_count": 15,
   "id": "c9ef3470",
   "metadata": {},
   "outputs": [
    {
     "data": {
      "text/plain": [
       "array([3, 6, 9])"
      ]
     },
     "execution_count": 15,
     "metadata": {},
     "output_type": "execute_result"
    }
   ],
   "source": [
    "np_array = np.array([1, 2, 3, 4, 5, 6, 7, 8, 9, 10])\n",
    "mask = np_array % 3 == 0\n",
    "np_array[mask]"
   ]
  },
  {
   "cell_type": "code",
   "execution_count": null,
   "id": "fbaf432e",
   "metadata": {},
   "outputs": [
    {
     "data": {
      "text/plain": [
       "array([False, False,  True, False, False,  True, False, False,  True,\n",
       "       False])"
      ]
     },
     "execution_count": 11,
     "metadata": {},
     "output_type": "execute_result"
    }
   ],
   "source": [
    "mask"
   ]
  },
  {
   "cell_type": "code",
   "execution_count": null,
   "id": "7fedaaec",
   "metadata": {},
   "outputs": [
    {
     "data": {
      "text/plain": [
       "np.int64(3)"
      ]
     },
     "execution_count": 13,
     "metadata": {},
     "output_type": "execute_result"
    }
   ],
   "source": [
    "mask.sum() #calculates sum of Trues"
   ]
  },
  {
   "cell_type": "code",
   "execution_count": null,
   "id": "ba2fd858",
   "metadata": {},
   "outputs": [
    {
     "data": {
      "text/plain": [
       "array([0, 1, 1, 2, 2, 3, 3, 4, 4, 5])"
      ]
     },
     "execution_count": 12,
     "metadata": {},
     "output_type": "execute_result"
    }
   ],
   "source": [
    "np_array//2 #Quotient"
   ]
  },
  {
   "cell_type": "code",
   "execution_count": null,
   "id": "cd9009e1",
   "metadata": {},
   "outputs": [
    {
     "data": {
      "text/plain": [
       "array([ 1,  2,  4,  5,  7,  8, 10])"
      ]
     },
     "execution_count": 15,
     "metadata": {},
     "output_type": "execute_result"
    }
   ],
   "source": [
    "np_array[~mask] #gives elements that are False"
   ]
  },
  {
   "cell_type": "code",
   "execution_count": null,
   "id": "dccaa48a",
   "metadata": {},
   "outputs": [
    {
     "data": {
      "text/plain": [
       "array([4, 5, 6, 7])"
      ]
     },
     "execution_count": 16,
     "metadata": {},
     "output_type": "execute_result"
    }
   ],
   "source": [
    "np_array[(np_array>3) & (np_array<8)] # \"&\" means \"AND\""
   ]
  },
  {
   "cell_type": "code",
   "execution_count": null,
   "id": "225b046c",
   "metadata": {},
   "outputs": [
    {
     "data": {
      "text/plain": [
       "array([False, False, False, False, False, False, False, False, False,\n",
       "       False])"
      ]
     },
     "execution_count": 17,
     "metadata": {},
     "output_type": "execute_result"
    }
   ],
   "source": [
    "np.logical_and(np_array>3,np_array<3)"
   ]
  },
  {
   "attachments": {},
   "cell_type": "markdown",
   "id": "123456",
   "metadata": {},
   "source": [
    "## 1.2 Arrays only | Subsetting by masking"
   ]
  },
  {
   "cell_type": "code",
   "execution_count": 7,
   "id": "67036d56",
   "metadata": {},
   "outputs": [
    {
     "data": {
      "text/plain": [
       "array([False, False, False,  True,  True,  True,  True,  True,  True,\n",
       "        True])"
      ]
     },
     "execution_count": 7,
     "metadata": {},
     "output_type": "execute_result"
    }
   ],
   "source": [
    "np_array = np.array([1, 2, 3, 4, 5, 6, 7, 8, 9, 10])\n",
    "my_mask = np_array > 3\n",
    "my_mask"
   ]
  },
  {
   "cell_type": "markdown",
   "id": "de3191f7",
   "metadata": {},
   "source": [
    "The answer to my question is in the form of a ‘Yes’/‘No’ or True/False format. I can use this True/False format to ask NumPy to show me only those that are True by:\n",
    "\n"
   ]
  },
  {
   "cell_type": "code",
   "execution_count": 8,
   "id": "5af2aaba",
   "metadata": {},
   "outputs": [
    {
     "data": {
      "text/plain": [
       "array([ 4,  5,  6,  7,  8,  9, 10])"
      ]
     },
     "execution_count": 8,
     "metadata": {},
     "output_type": "execute_result"
    }
   ],
   "source": [
    "np_array[my_mask]"
   ]
  },
  {
   "cell_type": "code",
   "execution_count": 10,
   "id": "47429dd7",
   "metadata": {},
   "outputs": [
    {
     "data": {
      "text/plain": [
       "array([ 4,  5,  6,  7,  8,  9, 10])"
      ]
     },
     "execution_count": 10,
     "metadata": {},
     "output_type": "execute_result"
    }
   ],
   "source": [
    "# Alternatively, \n",
    "np_array[np_array > 3]"
   ]
  },
  {
   "cell_type": "code",
   "execution_count": null,
   "id": "916dab2f",
   "metadata": {},
   "outputs": [
    {
     "data": {
      "text/plain": [
       "array([1, 2, 3])"
      ]
     },
     "execution_count": 9,
     "metadata": {},
     "output_type": "execute_result"
    }
   ],
   "source": [
    "np_array[~(np_array > 3)]                 # '~' means 'NOT'\n",
    "# ~ inverts the mask"
   ]
  },
  {
   "cell_type": "code",
   "execution_count": 11,
   "id": "679c4d11",
   "metadata": {},
   "outputs": [
    {
     "data": {
      "text/plain": [
       "array([4, 5, 6, 7])"
      ]
     },
     "execution_count": 11,
     "metadata": {},
     "output_type": "execute_result"
    }
   ],
   "source": [
    "np_array[(np_array > 3) & (np_array < 8)] # '&' means 'AND'"
   ]
  },
  {
   "cell_type": "code",
   "execution_count": 13,
   "id": "fc2f744a",
   "metadata": {},
   "outputs": [
    {
     "data": {
      "text/plain": [
       "array([ 1,  2,  9, 10])"
      ]
     },
     "execution_count": 13,
     "metadata": {},
     "output_type": "execute_result"
    }
   ],
   "source": [
    "np_array[(np_array < 3) | (np_array > 8)] # '|' means 'OR'\n",
    "# OR will show something if either mask is True"
   ]
  },
  {
   "attachments": {},
   "cell_type": "markdown",
   "id": "123456",
   "metadata": {},
   "source": [
    "## 1.3 Lists & Arrays in 2D | Indexing & Slicing"
   ]
  },
  {
   "cell_type": "markdown",
   "id": "976300e4",
   "metadata": {},
   "source": [
    "The differences between lists and arrays become even more apparent with higher dimensional lists and arrays. Especially when you try indexing and slicing in higher dimensions.\n",
    "\n"
   ]
  },
  {
   "cell_type": "code",
   "execution_count": 5,
   "id": "4d68f7f6",
   "metadata": {},
   "outputs": [],
   "source": [
    "#2d list\n",
    "py_list_2d = [[1, \"A\"], [2, \"B\"], [3, \"C\"], [4, \"D\"],\n",
    "              [5, \"E\"], [6, \"F\"], [7, \"G\"], [8, \"H\"],\n",
    "              [9, \"I\"], [10, \"J\"]]\n",
    "\n",
    "np_array_2d = np.array(py_list_2d)"
   ]
  },
  {
   "cell_type": "code",
   "execution_count": null,
   "id": "f2aa3b64",
   "metadata": {},
   "outputs": [
    {
     "name": "stdout",
     "output_type": "stream",
     "text": [
      "[4, 'D']\n",
      "['4' 'D']\n"
     ]
    }
   ],
   "source": [
    "# What is at position 4?\n",
    "print(py_list_2d[3])\n",
    "print(np_array_2d[3])"
   ]
  },
  {
   "cell_type": "code",
   "execution_count": 17,
   "id": "cb808ff6",
   "metadata": {},
   "outputs": [
    {
     "name": "stdout",
     "output_type": "stream",
     "text": [
      "4\n",
      "4\n"
     ]
    }
   ],
   "source": [
    "# First element at position 4\n",
    "print(py_list_2d[3][0])\n",
    "print(np_array_2d[3, 0])"
   ]
  },
  {
   "cell_type": "code",
   "execution_count": 19,
   "id": "668e27ff",
   "metadata": {},
   "outputs": [
    {
     "name": "stdout",
     "output_type": "stream",
     "text": [
      "[[1, 'A'], [2, 'B'], [3, 'C']]\n",
      "[['1' 'A']\n",
      " ['2' 'B']\n",
      " ['3' 'C']]\n"
     ]
    }
   ],
   "source": [
    "# What are the first 3 elements?\n",
    "print(py_list_2d[:3])\n",
    "print(np_array_2d[:3])"
   ]
  },
  {
   "cell_type": "code",
   "execution_count": null,
   "id": "4a5b0c64",
   "metadata": {},
   "outputs": [
    {
     "name": "stdout",
     "output_type": "stream",
     "text": [
      "[1, 'A']\n",
      "['1' '2' '3']\n"
     ]
    }
   ],
   "source": [
    "print(py_list_2d[:3][0]) # takes the first 3 elements and then the first out of the 3 elements\n",
    "print(np_array_2d[:3, 0]) # first element in each of the first 3 elements"
   ]
  },
  {
   "cell_type": "code",
   "execution_count": 6,
   "id": "0aca55a2",
   "metadata": {},
   "outputs": [
    {
     "name": "stdout",
     "output_type": "stream",
     "text": [
      "[4, 'D']\n",
      "['4' '5' '6']\n",
      "['1' '2' '3' '4' '5' '6' '7' '8' '9' '10']\n"
     ]
    }
   ],
   "source": [
    "print(py_list_2d[3:6][0])\n",
    "print(np_array_2d[3:6, 0])\n",
    "print(np_array_2d[:, 0])"
   ]
  },
  {
   "cell_type": "code",
   "execution_count": 24,
   "id": "c3133c9c",
   "metadata": {},
   "outputs": [
    {
     "data": {
      "text/plain": [
       "np.str_('4')"
      ]
     },
     "execution_count": 24,
     "metadata": {},
     "output_type": "execute_result"
    }
   ],
   "source": [
    "np_array_2d[3,0] #only for numpy"
   ]
  },
  {
   "cell_type": "code",
   "execution_count": 26,
   "id": "22c269b3",
   "metadata": {},
   "outputs": [
    {
     "data": {
      "text/plain": [
       "array(['4', '5', '6', '7', '8', '9', '10'], dtype='<U21')"
      ]
     },
     "execution_count": 26,
     "metadata": {},
     "output_type": "execute_result"
    }
   ],
   "source": [
    "np_array_2d[3:,0] #only for numpy"
   ]
  },
  {
   "attachments": {},
   "cell_type": "markdown",
   "id": "123456",
   "metadata": {},
   "source": [
    "## 1.4 Growing lists"
   ]
  },
  {
   "cell_type": "code",
   "execution_count": 7,
   "id": "6c41bdd7",
   "metadata": {},
   "outputs": [
    {
     "data": {
      "text/plain": [
       "[1, 2, 1, 2, 1, 2, 1, 2, 1, 2]"
      ]
     },
     "execution_count": 7,
     "metadata": {},
     "output_type": "execute_result"
    }
   ],
   "source": [
    "x=[1, 2]*5\n",
    "x"
   ]
  },
  {
   "cell_type": "code",
   "execution_count": 27,
   "id": "49868b09",
   "metadata": {},
   "outputs": [
    {
     "name": "stdout",
     "output_type": "stream",
     "text": [
      "[1, 2, 3]\n",
      "[1, 2, 3, 4]\n",
      "[1, 2, 3, 4, 5]\n",
      "[1, 2, 3, 4, 5, 6]\n"
     ]
    }
   ],
   "source": [
    "x = [1,2] +[3]\n",
    "print(x)\n",
    "x += [4]\n",
    "print(x)\n",
    "x += [5]\n",
    "print(x)\n",
    "x += [6]\n",
    "print(x)"
   ]
  },
  {
   "cell_type": "code",
   "execution_count": null,
   "id": "d09d503b",
   "metadata": {},
   "outputs": [
    {
     "name": "stdout",
     "output_type": "stream",
     "text": [
      "[1, 2]\n",
      "[1, 2, 3]\n",
      "[1, 2, 3, 4]\n"
     ]
    }
   ],
   "source": [
    "x = [1, 2]\n",
    "print(x)\n",
    "x.append(3)\n",
    "print(x)\n",
    "x.append(4)\n",
    "print(x)\n",
    "\n",
    "# append() runs faster"
   ]
  },
  {
   "cell_type": "code",
   "execution_count": 10,
   "id": "2c1735c5",
   "metadata": {},
   "outputs": [
    {
     "name": "stdout",
     "output_type": "stream",
     "text": [
      "[1, 2, 3, 4, 5, 6]\n",
      "[1, 2, 3, 4, 5, 6]\n",
      "[1, 2, 3, [4, 5, 6]]\n"
     ]
    }
   ],
   "source": [
    "x = [1, 2, 3]\n",
    "x += [4, 5, 6]\n",
    "print(x)\n",
    "\n",
    "x=[1, 2, 3]\n",
    "x.extend([4, 5, 6])\n",
    "print(x)\n",
    "\n",
    "x=[1, 2, 3]\n",
    "x.append([4, 5, 6])\n",
    "print(x)"
   ]
  },
  {
   "attachments": {},
   "cell_type": "markdown",
   "id": "123456",
   "metadata": {},
   "source": [
    "# Some loose ends"
   ]
  },
  {
   "attachments": {},
   "cell_type": "markdown",
   "id": "123456",
   "metadata": {},
   "source": [
    "## 1.5 Tuples"
   ]
  },
  {
   "cell_type": "markdown",
   "id": "988c37d5",
   "metadata": {},
   "source": [
    "Tuples are similar to lists, except they use ( ) and cannot be changed after creation (i.e., they are immutable).\n"
   ]
  },
  {
   "cell_type": "code",
   "execution_count": 11,
   "id": "430940d3",
   "metadata": {},
   "outputs": [
    {
     "name": "stdout",
     "output_type": "stream",
     "text": [
      "1\n"
     ]
    }
   ],
   "source": [
    "a = (1, 2, 3) # tuple, tuple cannot be changed\n",
    "b = [1, 2, 3] # list, list can be changed\n",
    "\n",
    "# accessing tuple data\n",
    "print(a[0])    # Access data"
   ]
  },
  {
   "cell_type": "code",
   "execution_count": 12,
   "id": "4ba7794d",
   "metadata": {},
   "outputs": [
    {
     "ename": "TypeError",
     "evalue": "'tuple' object does not support item assignment",
     "output_type": "error",
     "traceback": [
      "\u001b[31m---------------------------------------------------------------------------\u001b[39m",
      "\u001b[31mTypeError\u001b[39m                                 Traceback (most recent call last)",
      "\u001b[36mCell\u001b[39m\u001b[36m \u001b[39m\u001b[32mIn[12]\u001b[39m\u001b[32m, line 3\u001b[39m\n\u001b[32m      1\u001b[39m \u001b[38;5;66;03m# Data cannot be changed\u001b[39;00m\n\u001b[32m      2\u001b[39m \u001b[38;5;66;03m# The following will NOT work\u001b[39;00m\n\u001b[32m----> \u001b[39m\u001b[32m3\u001b[39m \u001b[43ma\u001b[49m\u001b[43m[\u001b[49m\u001b[32;43m0\u001b[39;49m\u001b[43m]\u001b[49m=-\u001b[32m1\u001b[39m\n\u001b[32m      4\u001b[39m a[\u001b[32m0\u001b[39m]+= [\u001b[32m10\u001b[39m]\n",
      "\u001b[31mTypeError\u001b[39m: 'tuple' object does not support item assignment"
     ]
    }
   ],
   "source": [
    "# Data cannot be changed\n",
    "# The following will NOT work\n",
    "a[0]=-1\n",
    "a[0]+= [10]"
   ]
  },
  {
   "cell_type": "code",
   "execution_count": 33,
   "id": "a3f06f1d",
   "metadata": {},
   "outputs": [
    {
     "data": {
      "text/plain": [
       "[1, 2, 3, 1]"
      ]
     },
     "execution_count": 33,
     "metadata": {},
     "output_type": "execute_result"
    }
   ],
   "source": [
    "b + [1]"
   ]
  },
  {
   "attachments": {},
   "cell_type": "markdown",
   "id": "123456",
   "metadata": {},
   "source": [
    "## 1.6 Be VERY careful when copying"
   ]
  },
  {
   "cell_type": "markdown",
   "id": "1ae7625a",
   "metadata": {},
   "source": [
    "### Make copies of your list properly!!"
   ]
  },
  {
   "cell_type": "code",
   "execution_count": 13,
   "id": "57707007",
   "metadata": {},
   "outputs": [],
   "source": [
    "x=[1, 2, 3]\n",
    "y=x           # DON'T do this!\n",
    "z=x           # DON'T do this!"
   ]
  },
  {
   "cell_type": "code",
   "execution_count": 14,
   "id": "88e94106",
   "metadata": {},
   "outputs": [],
   "source": [
    "# correct way\n",
    "x=[1, 2, 3]\n",
    "y=x.copy()\n",
    "z=x.copy()"
   ]
  },
  {
   "cell_type": "code",
   "execution_count": null,
   "id": "d60197be",
   "metadata": {},
   "outputs": [
    {
     "name": "stdout",
     "output_type": "stream",
     "text": [
      "x=[1, 2, 3] y=[1, 2, 3] z=[1, 2, 3]\n"
     ]
    }
   ],
   "source": [
    "print(f\"{x=}\", f\"{y=}\", f\"{z=}\")"
   ]
  },
  {
   "cell_type": "code",
   "execution_count": 39,
   "id": "6456c079",
   "metadata": {},
   "outputs": [
    {
     "name": "stdout",
     "output_type": "stream",
     "text": [
      "x=[1, 2, 3, 1, 1, 1] y=[1, 2, 3, 1, 1, 1] z=[1, 2, 3, 1, 1, 1]\n"
     ]
    }
   ],
   "source": [
    "x.append(1)\n",
    "print(f\"{x=}\", f\"{y=}\", f\"{z=}\")\n",
    "\n",
    "# never edit the tuple directly "
   ]
  },
  {
   "attachments": {},
   "cell_type": "markdown",
   "id": "123456",
   "metadata": {},
   "source": [
    "## Footnotes"
   ]
  }
 ],
 "metadata": {
  "kernelspec": {
   "display_name": "base",
   "language": "python",
   "name": "python3"
  },
  "language_info": {
   "codemirror_mode": {
    "name": "ipython",
    "version": 3
   },
   "file_extension": ".py",
   "mimetype": "text/x-python",
   "name": "python",
   "nbconvert_exporter": "python",
   "pygments_lexer": "ipython3",
   "version": "3.13.5"
  },
  "toc": {
   "base_numbering": 1,
   "nav_menu": {},
   "number_sections": true,
   "sideBar": true,
   "skip_h1_title": false,
   "title_cell": "Table of Contents",
   "title_sidebar": "Contents",
   "toc_cell": false,
   "toc_position": {},
   "toc_section_display": true,
   "toc_window_display": false
  }
 },
 "nbformat": 4,
 "nbformat_minor": 5
}
