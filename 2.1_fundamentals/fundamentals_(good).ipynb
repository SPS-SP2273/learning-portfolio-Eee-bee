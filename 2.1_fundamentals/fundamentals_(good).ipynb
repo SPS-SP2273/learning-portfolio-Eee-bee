{
 "cells": [
  {
   "attachments": {},
   "cell_type": "markdown",
   "id": "123456",
   "metadata": {},
   "source": [
    "<div style=\"text-align:left;font-size:2em\"><span style=\"font-weight:bolder;font-size:1.25em\">SP2273 | Learning Portfolio</span><br><br><span style=\"font-weight:bold;color:darkred\">Fundamentals (Good)</span></div>"
   ]
  },
  {
   "attachments": {},
   "cell_type": "markdown",
   "id": "123456",
   "metadata": {},
   "source": [
    "# What to expect in this chapter"
   ]
  },
  {
   "attachments": {},
   "cell_type": "markdown",
   "id": "123456",
   "metadata": {},
   "source": [
    "# 1 There is more to if"
   ]
  },
  {
   "cell_type": "markdown",
   "id": "d828231f",
   "metadata": {},
   "source": [
    "There are situations when we need more branches in an if statement. Python has the elif (else if) statement for such cases"
   ]
  },
  {
   "cell_type": "code",
   "execution_count": 1,
   "id": "acfe5855",
   "metadata": {},
   "outputs": [
    {
     "name": "stdout",
     "output_type": "stream",
     "text": [
      "Hello Batman!\n"
     ]
    }
   ],
   "source": [
    "name = 'Batman'\n",
    "\n",
    "if name == 'Batman':\n",
    "    print('Hello Batman!')\n",
    "elif name == 'Robin':\n",
    "    print('Hello Sidekick!')\n",
    "else:\n",
    "    print('Hello World!')"
   ]
  },
  {
   "attachments": {},
   "cell_type": "markdown",
   "id": "123456",
   "metadata": {},
   "source": [
    "# 2 Asking questions"
   ]
  },
  {
   "cell_type": "markdown",
   "id": "6d50ab5d",
   "metadata": {},
   "source": [
    "- To use if to make decisions we need to be able to ask questions\n",
    "- *not, in, and, or* are some python keywords that are useful"
   ]
  },
  {
   "cell_type": "code",
   "execution_count": 2,
   "id": "0ac0d70a",
   "metadata": {},
   "outputs": [],
   "source": [
    "fruits = ['apple', 'banana', 'pineapple', 'jackfruit']\n",
    "vegetables = ['celery', 'potato', 'broccoli', 'kale']"
   ]
  },
  {
   "cell_type": "code",
   "execution_count": 4,
   "id": "07801a74",
   "metadata": {},
   "outputs": [
    {
     "data": {
      "text/plain": [
       "True"
      ]
     },
     "execution_count": 4,
     "metadata": {},
     "output_type": "execute_result"
    }
   ],
   "source": [
    "\"apple\" in fruits #is apple in fruits?"
   ]
  },
  {
   "cell_type": "code",
   "execution_count": null,
   "id": "32936fb1",
   "metadata": {},
   "outputs": [
    {
     "data": {
      "text/plain": [
       "False"
      ]
     },
     "execution_count": 3,
     "metadata": {},
     "output_type": "execute_result"
    }
   ],
   "source": [
    "(\"kiwi\" in fruits) and (\"kale\" in vegetables) #Is ‘kiwi’ in the list fruits and is ‘kale’ in the list vegetables?"
   ]
  },
  {
   "cell_type": "code",
   "execution_count": 4,
   "id": "952c5518",
   "metadata": {},
   "outputs": [
    {
     "data": {
      "text/plain": [
       "True"
      ]
     },
     "execution_count": 4,
     "metadata": {},
     "output_type": "execute_result"
    }
   ],
   "source": [
    "('apple' in fruits) or ('celery' in vegetables) # Is ‘apple’ in the list fruits or is ‘celery’ in the list vegetables?"
   ]
  },
  {
   "cell_type": "code",
   "execution_count": 8,
   "id": "e097dbfa",
   "metadata": {},
   "outputs": [
    {
     "data": {
      "text/plain": [
       "False"
      ]
     },
     "execution_count": 8,
     "metadata": {},
     "output_type": "execute_result"
    }
   ],
   "source": [
    "\"kale\" not in vegetables"
   ]
  },
  {
   "cell_type": "code",
   "execution_count": 10,
   "id": "e7609cb2",
   "metadata": {},
   "outputs": [
    {
     "data": {
      "text/plain": [
       "True"
      ]
     },
     "execution_count": 10,
     "metadata": {},
     "output_type": "execute_result"
    }
   ],
   "source": [
    "\"app\" in \"apple\""
   ]
  },
  {
   "cell_type": "code",
   "execution_count": 11,
   "id": "aba1ca4c",
   "metadata": {},
   "outputs": [
    {
     "data": {
      "text/plain": [
       "False"
      ]
     },
     "execution_count": 11,
     "metadata": {},
     "output_type": "execute_result"
    }
   ],
   "source": [
    "\"a\" > \"b\" # asking if b is greater than a"
   ]
  },
  {
   "cell_type": "markdown",
   "id": "f17ead52",
   "metadata": {},
   "source": [
    "Basic Python only knows how to compare similar things (types) (e.g. numbers or English). So, 3 > 10.5 will work, but 3 > 'apple' will not."
   ]
  },
  {
   "cell_type": "code",
   "execution_count": 5,
   "id": "955a1af8",
   "metadata": {},
   "outputs": [
    {
     "data": {
      "text/plain": [
       "False"
      ]
     },
     "execution_count": 5,
     "metadata": {},
     "output_type": "execute_result"
    }
   ],
   "source": [
    "'apples' > 'oranges'"
   ]
  },
  {
   "cell_type": "markdown",
   "id": "51687f93",
   "metadata": {},
   "source": [
    "This comparison works because English letters are internally represented as numbers. For example, 'a' is 97 and 'o' is 111. "
   ]
  },
  {
   "attachments": {},
   "cell_type": "markdown",
   "id": "123456",
   "metadata": {},
   "source": [
    "## 2.1 Asking Math questions"
   ]
  },
  {
   "cell_type": "markdown",
   "id": "7f928469",
   "metadata": {},
   "source": [
    "|Question/Condition|Math Symbol|Python Symbols|\n",
    "|:--|:-:|:-:|\n",
    "|Equals?|=|==|\n",
    "|Not equal?|$\\ne$|!=|\n",
    "|Less than?|$\\lt$|<|\n",
    "|Greater than?|$\\gt$|>|\n",
    "|Less than or equal?|$\\le$|<=|\n",
    "|Greater than or equal?|$\\ge$|>=|"
   ]
  },
  {
   "cell_type": "markdown",
   "id": "2b8e48d1",
   "metadata": {},
   "source": [
    "- use brackets!"
   ]
  },
  {
   "attachments": {},
   "cell_type": "markdown",
   "id": "123456",
   "metadata": {},
   "source": [
    "# 3 Python stores information in different formats or types"
   ]
  },
  {
   "cell_type": "code",
   "execution_count": null,
   "id": "6a5ec5df",
   "metadata": {},
   "outputs": [
    {
     "name": "stdout",
     "output_type": "stream",
     "text": [
      "1 <class 'int'>\n"
     ]
    }
   ],
   "source": [
    "x = int(1.234) # integer\n",
    "print(f\"{x=}\", type(x)) \n",
    "# decimal portion is dropped"
   ]
  },
  {
   "cell_type": "code",
   "execution_count": null,
   "id": "1c50d3ce",
   "metadata": {},
   "outputs": [
    {
     "name": "stdout",
     "output_type": "stream",
     "text": [
      "1.234 <class 'str'>\n"
     ]
    }
   ],
   "source": [
    "x = str(1.234) # string\n",
    "print(f\"{x=}\", type(x))"
   ]
  },
  {
   "cell_type": "code",
   "execution_count": 14,
   "id": "25bbb817",
   "metadata": {},
   "outputs": [
    {
     "name": "stdout",
     "output_type": "stream",
     "text": [
      "x=1.234 <class 'float'>\n"
     ]
    }
   ],
   "source": [
    "x = float(1.234) # float\n",
    "print(f\"{x=}\", type(x))"
   ]
  },
  {
   "cell_type": "code",
   "execution_count": 8,
   "id": "9566014a",
   "metadata": {},
   "outputs": [
    {
     "name": "stdout",
     "output_type": "stream",
     "text": [
      "x=(1.234+0j) <class 'complex'>\n"
     ]
    }
   ],
   "source": [
    "x = complex(1.234)\n",
    "print(f\"{x=}\", type(x))\n",
    "# includes imaginary part of the number"
   ]
  },
  {
   "cell_type": "markdown",
   "id": "a570adeb",
   "metadata": {},
   "source": [
    "Strong data in particular types hekps to maximise resources for the computer \n",
    "- Exaample: adding 2 intergers rogether us easier than adding an integer to a float"
   ]
  },
  {
   "attachments": {},
   "cell_type": "markdown",
   "id": "123456",
   "metadata": {},
   "source": [
    "# 4 Never compare floats directly"
   ]
  },
  {
   "attachments": {},
   "cell_type": "markdown",
   "id": "123456",
   "metadata": {},
   "source": [
    "## 4.1 The Problem"
   ]
  },
  {
   "cell_type": "markdown",
   "id": "84e3800d",
   "metadata": {},
   "source": [
    "Since computers have finite (hardware) resources, floating point numbers cannot be exactly stored in a computer. This leads to errors called roundoff errors"
   ]
  },
  {
   "cell_type": "code",
   "execution_count": 13,
   "id": "6291527d",
   "metadata": {},
   "outputs": [
    {
     "name": "stdout",
     "output_type": "stream",
     "text": [
      "0.30000000000000004\n"
     ]
    }
   ],
   "source": [
    "a = 0.1\n",
    "a3 = 0.3\n",
    "a * 3 == a3\n",
    "print(a * 3)"
   ]
  },
  {
   "cell_type": "code",
   "execution_count": 11,
   "id": "5f3664de",
   "metadata": {},
   "outputs": [
    {
     "data": {
      "text/plain": [
       "'0.29999999999999999'"
      ]
     },
     "execution_count": 11,
     "metadata": {},
     "output_type": "execute_result"
    }
   ],
   "source": [
    "# Printing 0.3 to 17 decimal places\n",
    "f'{0.3:.17f}'"
   ]
  },
  {
   "attachments": {},
   "cell_type": "markdown",
   "id": "123456",
   "metadata": {},
   "source": [
    "## 4.2 A solution"
   ]
  },
  {
   "cell_type": "markdown",
   "id": "275d992a",
   "metadata": {},
   "source": [
    "To get around these types of issues, you should check if the variable is close to the expected values instead of checking for equality."
   ]
  },
  {
   "cell_type": "code",
   "execution_count": null,
   "id": "fbb07959",
   "metadata": {},
   "outputs": [
    {
     "data": {
      "text/plain": [
       "True"
      ]
     },
     "execution_count": 20,
     "metadata": {},
     "output_type": "execute_result"
    }
   ],
   "source": [
    "(a3 - 3*a)< 1E-5 # check how close the 2 numbers are"
   ]
  },
  {
   "cell_type": "code",
   "execution_count": 14,
   "id": "3e7fcd34",
   "metadata": {},
   "outputs": [
    {
     "data": {
      "text/plain": [
       "True"
      ]
     },
     "execution_count": 14,
     "metadata": {},
     "output_type": "execute_result"
    }
   ],
   "source": [
    "eps = 1E-10\n",
    "abs(a * 3 - a3) < eps"
   ]
  },
  {
   "cell_type": "code",
   "execution_count": 17,
   "id": "d7887185",
   "metadata": {},
   "outputs": [
    {
     "data": {
      "text/plain": [
       "np.True_"
      ]
     },
     "execution_count": 17,
     "metadata": {},
     "output_type": "execute_result"
    }
   ],
   "source": [
    "import numpy as np\n",
    "# Using numoy to check how close the 2 numbers are\n",
    "np.isclose(a * 3, a3)"
   ]
  },
  {
   "attachments": {},
   "cell_type": "markdown",
   "id": "123456",
   "metadata": {},
   "source": [
    "# 5 Combining English and variables"
   ]
  },
  {
   "cell_type": "markdown",
   "id": "a822f271",
   "metadata": {},
   "source": [
    "One of the most valuable coding skills is the ability to seamlessly combine strings (i.e., English) with variables\n",
    "\n",
    "f and {} used is for f-string/string interpolation"
   ]
  },
  {
   "cell_type": "code",
   "execution_count": 21,
   "id": "7c9e9338",
   "metadata": {},
   "outputs": [
    {
     "name": "stdout",
     "output_type": "stream",
     "text": [
      "Hello Batman!\n"
     ]
    }
   ],
   "source": [
    "name = \"Batman\"\n",
    "print(f\"Hello {name}!\")"
   ]
  },
  {
   "cell_type": "code",
   "execution_count": 18,
   "id": "68e059e0",
   "metadata": {},
   "outputs": [
    {
     "name": "stdout",
     "output_type": "stream",
     "text": [
      "Hello BATMAN!\n"
     ]
    }
   ],
   "source": [
    "name = \"Batman\"\n",
    "print(f\"Hello {name.upper()}!\")"
   ]
  },
  {
   "cell_type": "code",
   "execution_count": 19,
   "id": "08eaf2f4",
   "metadata": {},
   "outputs": [
    {
     "name": "stdout",
     "output_type": "stream",
     "text": [
      "The value of 10 squared is 100!\n"
     ]
    }
   ],
   "source": [
    "x = 10\n",
    "print(f\"The value of {x} squared is {x**2}!\")"
   ]
  },
  {
   "cell_type": "markdown",
   "id": "7f0ab0d2",
   "metadata": {},
   "source": [
    "### Using f-string to format text"
   ]
  },
  {
   "cell_type": "code",
   "execution_count": 25,
   "id": "3d388ea6",
   "metadata": {},
   "outputs": [
    {
     "name": "stdout",
     "output_type": "stream",
     "text": [
      "Bruce Wayne is Batman.\n",
      "        Bruce Wayne is Batman.\n",
      "    Bruce Wayne is Batman.    \n",
      "Bruce Wayne is Batman.        \n"
     ]
    }
   ],
   "source": [
    "text = 'Bruce Wayne is Batman.'\n",
    "print(f'{text}')\n",
    "print(f'{text:>30}')      # A block of 30 characters; will add 30 spaces in front\n",
    "                          # align right\n",
    "\n",
    "print(f'{text:^30}')      # A block of 30 characters;\n",
    "                          # align centre\n",
    "\n",
    "print(f'{text:<30}')      # A block of 30 characters;\n",
    "                          # align left"
   ]
  },
  {
   "cell_type": "markdown",
   "id": "8c237386",
   "metadata": {},
   "source": [
    "### Using f-string to format numbers"
   ]
  },
  {
   "cell_type": "code",
   "execution_count": null,
   "id": "6fcac8ad",
   "metadata": {},
   "outputs": [
    {
     "name": "stdout",
     "output_type": "stream",
     "text": [
      "The cube of pi to 6 decimal places is 31.006277\n"
     ]
    }
   ],
   "source": [
    "print(f'The cube of pi to 6 decimal places is {np.pi**3:.6f}')\n",
    "# The f in .6f is used to tell the f-string to output the number in decimal notation."
   ]
  },
  {
   "cell_type": "code",
   "execution_count": null,
   "id": "82992645",
   "metadata": {},
   "outputs": [
    {
     "name": "stdout",
     "output_type": "stream",
     "text": [
      "The cube of pi to 6 decimal places is 3.100628e+01\n"
     ]
    }
   ],
   "source": [
    "print(f'The cube of pi to 6 decimal places is {np.pi**3:.6e}')\n",
    "# The e in .6e is used to tell the f-string to output the number in scientific notation."
   ]
  },
  {
   "attachments": {},
   "cell_type": "markdown",
   "id": "123456",
   "metadata": {},
   "source": [
    "## 5.1 Structure of f-strings"
   ]
  },
  {
   "cell_type": "markdown",
   "id": "0d1254c4",
   "metadata": {},
   "source": [
    "f-string formatting has the structure {X:>0Y:ZW}"
   ]
  },
  {
   "cell_type": "markdown",
   "id": "efe923e3",
   "metadata": {},
   "source": [
    "Letter|Action|Possible Options|\n",
    "|:--|:--|:--|\n",
    "|X|Variable to format|Can be a number of string|\n",
    "|>|Alignment|< (Left justified), > (Right justified), ^ (Centre justified)|\n",
    "|0|Use 0's to pad the spaces|You can use other characters like a space|\n",
    "|Y|Total number of characters||\n",
    "|Z|Number of decimal places||\n",
    "|W|Specific the type of variable|f (float), d (integer), s (string), g (Asks Python to figure out)|"
   ]
  },
  {
   "attachments": {},
   "cell_type": "markdown",
   "id": "123456",
   "metadata": {},
   "source": [
    "# 6 Escape sequences"
   ]
  },
  {
   "cell_type": "markdown",
   "id": "cc95db41",
   "metadata": {},
   "source": [
    "It refers to special characters we sometimes need when writing English. For example, to break a line and add a tab:"
   ]
  },
  {
   "cell_type": "code",
   "execution_count": 22,
   "id": "c970dfb3",
   "metadata": {},
   "outputs": [
    {
     "name": "stdout",
     "output_type": "stream",
     "text": [
      "Line 1\n",
      "\tLine 2\n",
      "\t\tLine 3\n"
     ]
    }
   ],
   "source": [
    "print('Line 1\\n\\tLine 2\\n\\t\\tLine 3')"
   ]
  },
  {
   "cell_type": "markdown",
   "id": "909b22e2",
   "metadata": {},
   "source": [
    "|Escape Sequence|Meaning|\n",
    "|:-:|:-:|\n",
    "|\\'|Single quote|\n",
    "|\\\\\\ |Backslash|\n",
    "|\\n|Newline|\n",
    "|\\t|Horizontal Tab|"
   ]
  },
  {
   "cell_type": "code",
   "execution_count": null,
   "id": "c2b128d3",
   "metadata": {},
   "outputs": [
    {
     "name": "stdout",
     "output_type": "stream",
     "text": [
      "You're twenty years old.\n"
     ]
    }
   ],
   "source": [
    "print('You\\'re twenty years old.') # can use \\ instead of '"
   ]
  },
  {
   "cell_type": "code",
   "execution_count": 25,
   "id": "db21b6c3",
   "metadata": {},
   "outputs": [
    {
     "name": "stdout",
     "output_type": "stream",
     "text": [
      "A\\B\\C\n"
     ]
    }
   ],
   "source": [
    "print('A\\\\B\\\\C')"
   ]
  },
  {
   "cell_type": "code",
   "execution_count": 26,
   "id": "fda3b94f",
   "metadata": {},
   "outputs": [
    {
     "name": "stdout",
     "output_type": "stream",
     "text": [
      "A\n",
      "B\n",
      "C\n"
     ]
    }
   ],
   "source": [
    "print('A\\nB\\nC')"
   ]
  },
  {
   "cell_type": "code",
   "execution_count": 27,
   "id": "371a565a",
   "metadata": {},
   "outputs": [
    {
     "name": "stdout",
     "output_type": "stream",
     "text": [
      "A\tB\tC\n"
     ]
    }
   ],
   "source": [
    "print('A\\tB\\tC')"
   ]
  },
  {
   "attachments": {},
   "cell_type": "markdown",
   "id": "123456",
   "metadata": {},
   "source": [
    "## 6.1 Self-documenting f-strings"
   ]
  },
  {
   "cell_type": "code",
   "execution_count": 28,
   "id": "bbc6a634",
   "metadata": {},
   "outputs": [
    {
     "name": "stdout",
     "output_type": "stream",
     "text": [
      "x=42 and y=24\n"
     ]
    }
   ],
   "source": [
    "x, y= 42, 24\n",
    "print(f'{x=} and {y=}')"
   ]
  },
  {
   "cell_type": "code",
   "execution_count": 29,
   "id": "dcf7a523",
   "metadata": {},
   "outputs": [
    {
     "name": "stdout",
     "output_type": "stream",
     "text": [
      "x=8.400 and y=4.800000\n"
     ]
    }
   ],
   "source": [
    "x, y= 42/5, 24/5\n",
    "print(f'{x=:.3f} and {y=:.6f}')"
   ]
  },
  {
   "attachments": {},
   "cell_type": "markdown",
   "id": "123456",
   "metadata": {},
   "source": [
    "# 7 Computers read = from Right to Left!"
   ]
  },
  {
   "cell_type": "code",
   "execution_count": null,
   "id": "d476bca9",
   "metadata": {},
   "outputs": [],
   "source": [
    "y = 40\n",
    "y = x + 2"
   ]
  },
  {
   "cell_type": "markdown",
   "id": "04603556",
   "metadata": {},
   "source": [
    "How Python executes these instructions is as follows:\n",
    "\n",
    "This means that the following will work in programming (but not math!)."
   ]
  },
  {
   "cell_type": "code",
   "execution_count": 27,
   "id": "5864c9eb",
   "metadata": {},
   "outputs": [
    {
     "name": "stdout",
     "output_type": "stream",
     "text": [
      "42\n"
     ]
    }
   ],
   "source": [
    "y = 40\n",
    "y = y + 2\n",
    "print(y)"
   ]
  },
  {
   "cell_type": "code",
   "execution_count": null,
   "id": "32c33db4",
   "metadata": {},
   "outputs": [],
   "source": [
    "# Python allows:\n",
    "x = y = 10"
   ]
  },
  {
   "attachments": {},
   "cell_type": "markdown",
   "id": "123456",
   "metadata": {},
   "source": [
    "# 8 Shorter and Cleaner Code"
   ]
  },
  {
   "cell_type": "markdown",
   "id": "79a1f4f1",
   "metadata": {},
   "source": [
    "Shorthand syntax can make your code neater"
   ]
  },
  {
   "cell_type": "code",
   "execution_count": 32,
   "id": "5b7f1e9c",
   "metadata": {},
   "outputs": [
    {
     "data": {
      "text/plain": [
       "42"
      ]
     },
     "execution_count": 32,
     "metadata": {},
     "output_type": "execute_result"
    }
   ],
   "source": [
    "# Without\n",
    "y = 40\n",
    "y = y + 2\n",
    "y"
   ]
  },
  {
   "cell_type": "code",
   "execution_count": 33,
   "id": "01cc1f4c",
   "metadata": {},
   "outputs": [
    {
     "data": {
      "text/plain": [
       "42"
      ]
     },
     "execution_count": 33,
     "metadata": {},
     "output_type": "execute_result"
    }
   ],
   "source": [
    "# With\n",
    "y = 40\n",
    "y += 2    # Same as y = y + 2\n",
    "y"
   ]
  },
  {
   "cell_type": "markdown",
   "id": "a65fc025",
   "metadata": {},
   "source": [
    "||Long form|Shorthand|\n",
    "|:--|:-:|:-:|\n",
    "|Addition|y = y+2|y += 2|\n",
    "Subtraction|y = y-2|y -= 2|\n",
    "|Multiplication|y = y*2|y *= 2|\n",
    "|Division|y = y/2|y /= 2|"
   ]
  },
  {
   "attachments": {},
   "cell_type": "markdown",
   "id": "123456",
   "metadata": {},
   "source": [
    "# 9 Python can be a prima-donna."
   ]
  },
  {
   "cell_type": "markdown",
   "id": "20a80ee8",
   "metadata": {},
   "source": [
    "Scroll to the end to find out the error in your code.\n",
    "\n"
   ]
  },
  {
   "attachments": {},
   "cell_type": "markdown",
   "id": "123456",
   "metadata": {},
   "source": [
    "# 10 Best Practices for Scientific Computing"
   ]
  },
  {
   "cell_type": "markdown",
   "id": "92f09956",
   "metadata": {},
   "source": [
    "1. Write programs for people, not computers.\n",
    "1. Optimise software only after it works correctly.\n",
    "1. Document design and purpose, not mechanics.\n",
    "1. Collaborate."
   ]
  },
  {
   "cell_type": "code",
   "execution_count": 31,
   "id": "08480231",
   "metadata": {},
   "outputs": [],
   "source": [
    "age = 10 # student's age\n",
    "student_age = 10"
   ]
  },
  {
   "attachments": {},
   "cell_type": "markdown",
   "id": "123456",
   "metadata": {},
   "source": [
    "# 11 Looking for help"
   ]
  },
  {
   "attachments": {},
   "cell_type": "markdown",
   "id": "123456",
   "metadata": {},
   "source": [
    "## References"
   ]
  },
  {
   "attachments": {},
   "cell_type": "markdown",
   "id": "123456",
   "metadata": {},
   "source": [
    "## Footnotes"
   ]
  }
 ],
 "metadata": {
  "kernelspec": {
   "display_name": "base",
   "language": "python",
   "name": "python3"
  },
  "language_info": {
   "codemirror_mode": {
    "name": "ipython",
    "version": 3
   },
   "file_extension": ".py",
   "mimetype": "text/x-python",
   "name": "python",
   "nbconvert_exporter": "python",
   "pygments_lexer": "ipython3",
   "version": "3.13.5"
  },
  "toc": {
   "base_numbering": 1,
   "nav_menu": {},
   "number_sections": true,
   "sideBar": true,
   "skip_h1_title": false,
   "title_cell": "Table of Contents",
   "title_sidebar": "Contents",
   "toc_cell": false,
   "toc_position": {},
   "toc_section_display": true,
   "toc_window_display": false
  }
 },
 "nbformat": 4,
 "nbformat_minor": 5
}
