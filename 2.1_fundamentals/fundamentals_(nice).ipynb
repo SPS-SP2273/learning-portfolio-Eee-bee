{
 "cells": [
  {
   "attachments": {},
   "cell_type": "markdown",
   "id": "123456",
   "metadata": {},
   "source": [
    "<div style=\"text-align:left;font-size:2em\"><span style=\"font-weight:bolder;font-size:1.25em\">SP2273 | Learning Portfolio</span><br><br><span style=\"font-weight:bold;color:darkred\">Fundamentals (Nice)</span></div>"
   ]
  },
  {
   "attachments": {},
   "cell_type": "markdown",
   "id": "123456",
   "metadata": {},
   "source": [
    "# 1 If if is not enough"
   ]
  },
  {
   "cell_type": "markdown",
   "id": "000930e5",
   "metadata": {},
   "source": [
    "Sometimes you have multiple conditions you want to check. For such situations, the if-elif-else statements can be cumbersome. Since Python 3.10, you can use a match-case statement that goes like this:\n",
    "\n"
   ]
  },
  {
   "cell_type": "code",
   "execution_count": 1,
   "id": "13f9b4fb",
   "metadata": {},
   "outputs": [
    {
     "name": "stdout",
     "output_type": "stream",
     "text": [
      "Hello Hero | Batman!\n"
     ]
    }
   ],
   "source": [
    "name = 'Batman'\n",
    "\n",
    "match name:\n",
    "    case 'Batman':\n",
    "        print('Hello Hero | Batman!')\n",
    "    case 'Robin':\n",
    "        print('Hello Sidekick | Robin!')\n",
    "    case _:\n",
    "        print('Hello World!')"
   ]
  },
  {
   "attachments": {},
   "cell_type": "markdown",
   "id": "123456",
   "metadata": {},
   "source": [
    "# 2 Ternary operators or Conditional Statements"
   ]
  },
  {
   "cell_type": "markdown",
   "id": "c5d98e72",
   "metadata": {},
   "source": [
    "Python offers ternary operators (containing three parts) that can be useful to make your code more readable and less verbose\n",
    "So, instead of writing:"
   ]
  },
  {
   "cell_type": "code",
   "execution_count": null,
   "id": "871ca0e1",
   "metadata": {},
   "outputs": [],
   "source": [
    "# instead of\n",
    "nationality = \"\"\n",
    "if nationality == 'French':\n",
    "    greeting = \"Bonjour!\"\n",
    "else:\n",
    "    greeting = \"Hello!\""
   ]
  },
  {
   "cell_type": "code",
   "execution_count": 5,
   "id": "85dfb4f8",
   "metadata": {},
   "outputs": [],
   "source": [
    "# we can write:\n",
    "greeting = \"Bonjour!\" if nationality == 'French' else \"Hello!\""
   ]
  },
  {
   "cell_type": "code",
   "execution_count": 6,
   "id": "f31688a4",
   "metadata": {},
   "outputs": [
    {
     "data": {
      "text/plain": [
       "'Hello!'"
      ]
     },
     "execution_count": 6,
     "metadata": {},
     "output_type": "execute_result"
    }
   ],
   "source": [
    "#or \n",
    "(\"Hello!\", \"Bonjour!\")[nationality == 'French']"
   ]
  },
  {
   "cell_type": "code",
   "execution_count": null,
   "id": "dc0ec339",
   "metadata": {},
   "outputs": [],
   "source": [
    "# or\n",
    "{False: \"Hello!\", True: \"Bonjour!\"}[nationality == 'French']"
   ]
  },
  {
   "cell_type": "markdown",
   "id": "9da3bf05",
   "metadata": {},
   "source": [
    "Here is another ternary operator:"
   ]
  },
  {
   "cell_type": "code",
   "execution_count": null,
   "id": "fe9584a9",
   "metadata": {},
   "outputs": [
    {
     "name": "stdout",
     "output_type": "stream",
     "text": [
      "No message!\n"
     ]
    }
   ],
   "source": [
    "text = None # assigns None to text\n",
    "message = text or \"No message!\" # if message = None, print \"No message!\", else message = text\n",
    "print(message)"
   ]
  },
  {
   "attachments": {},
   "cell_type": "markdown",
   "id": "123456",
   "metadata": {},
   "source": [
    "# 3 Swapping values"
   ]
  },
  {
   "cell_type": "code",
   "execution_count": 12,
   "id": "a277c4b4",
   "metadata": {},
   "outputs": [
    {
     "name": "stdout",
     "output_type": "stream",
     "text": [
      "2 1\n"
     ]
    }
   ],
   "source": [
    "a, b = 1, 2\n",
    "a, b = b, a\n",
    "print(a, b)"
   ]
  },
  {
   "attachments": {},
   "cell_type": "markdown",
   "id": "123456",
   "metadata": {},
   "source": [
    "# 4 There are more types"
   ]
  },
  {
   "cell_type": "markdown",
   "id": "0efa693d",
   "metadata": {},
   "source": [
    "We discussed earlier how we should never check the equality of two floats because it will be influenced by rounding off errors. What if you want to do some absurdly precise calculations? One way around this is to use higher precision types like np.float32 or np.float64"
   ]
  },
  {
   "cell_type": "code",
   "execution_count": 15,
   "id": "ffa0f5a3",
   "metadata": {},
   "outputs": [
    {
     "name": "stdout",
     "output_type": "stream",
     "text": [
      "float          : 2.220446049250313e-16\n",
      "float16        : 0.000977\n",
      "float32        : 1.1920929e-07\n",
      "float64        : 2.220446049250313e-16\n"
     ]
    }
   ],
   "source": [
    "import numpy as np\n",
    "my_types = [\n",
    "    float,       # Default for core Python on my machine\n",
    "    np.float16,\n",
    "    np.float32,\n",
    "    np.float64,\n",
    "    #np.float128 # Not available on my Mac :( \n",
    "                 # But works on a Linux OS!\n",
    "]\n",
    "\n",
    "for my_type in my_types:\n",
    "    print(f'{my_type.__name__:<15s}:', np.finfo(my_type).eps) # np.finfo() to query the limits applicable to floating point operations"
   ]
  },
  {
   "attachments": {},
   "cell_type": "markdown",
   "id": "123456",
   "metadata": {},
   "source": [
    "# 5 Operator precedance"
   ]
  },
  {
   "attachments": {},
   "cell_type": "markdown",
   "id": "123456",
   "metadata": {},
   "source": [
    "# 6 Variables in Python are just names"
   ]
  },
  {
   "attachments": {},
   "cell_type": "markdown",
   "id": "123456",
   "metadata": {},
   "source": [
    "## 6.1 The Problem"
   ]
  },
  {
   "cell_type": "markdown",
   "id": "25be2881",
   "metadata": {},
   "source": [
    "Since we use variables all the time, it is good to understand how they work. This is particularly true for Python because certain Python variables can be sneaky!\n",
    "\n",
    "What do you think will be printed if you run the following code? Try to predict the answers before running the code.\n",
    "\n"
   ]
  },
  {
   "cell_type": "code",
   "execution_count": 16,
   "id": "931bc6ca",
   "metadata": {},
   "outputs": [
    {
     "name": "stdout",
     "output_type": "stream",
     "text": [
      "x: [1, 2, 3], y: [1, 2, 3]\n"
     ]
    }
   ],
   "source": [
    "x = [1, 2]\n",
    "y = x\n",
    "y.append(3)\n",
    "\n",
    "print(f\"x: {x}, y: {y}\")"
   ]
  },
  {
   "attachments": {},
   "cell_type": "markdown",
   "id": "123456",
   "metadata": {},
   "source": [
    "## 6.2 An explanation"
   ]
  },
  {
   "cell_type": "code",
   "execution_count": 17,
   "id": "34fc6069",
   "metadata": {},
   "outputs": [
    {
     "data": {
      "text/plain": [
       "'CODE 1'"
      ]
     },
     "execution_count": 17,
     "metadata": {},
     "output_type": "execute_result"
    }
   ],
   "source": [
    "'''CODE 1'''"
   ]
  },
  {
   "cell_type": "code",
   "execution_count": 18,
   "id": "c5bcaebc",
   "metadata": {},
   "outputs": [
    {
     "name": "stdout",
     "output_type": "stream",
     "text": [
      "x: 4410604728, y: 4410604728, 1: 4410604728\n"
     ]
    }
   ],
   "source": [
    "x = 1\n",
    "y = 1\n",
    "\n",
    "print(f\"x: {id(x)}, y: {id(y)}, 1: {id(1)}\")"
   ]
  },
  {
   "cell_type": "markdown",
   "id": "35c44f80",
   "metadata": {},
   "source": [
    "The above code tells us that x, y both have the same id as 1! The following figure tries to explain what is happening.\n",
    "\n"
   ]
  },
  {
   "cell_type": "markdown",
   "id": "f8d134de",
   "metadata": {},
   "source": [
    "Before the code is run, Python has things or objects 1, 2 and a that have three properties type, value and id. For example, 1 can have the value 1, type int, and some id. a can have the value ‘a’, type str and some id.\n",
    "\n",
    "After the code is run, x and y are ‘looking at’ or bound to 1. So x and y are referred to as names that are bound to 11."
   ]
  },
  {
   "cell_type": "code",
   "execution_count": 1,
   "id": "22ae8db8",
   "metadata": {},
   "outputs": [
    {
     "data": {
      "text/plain": [
       "'CODE 2'"
      ]
     },
     "execution_count": 1,
     "metadata": {},
     "output_type": "execute_result"
    }
   ],
   "source": [
    "'''CODE 2'''"
   ]
  },
  {
   "cell_type": "code",
   "execution_count": 2,
   "id": "6296b7a4",
   "metadata": {},
   "outputs": [
    {
     "name": "stdout",
     "output_type": "stream",
     "text": [
      "x: 4421905592, y: 4421905624\n"
     ]
    }
   ],
   "source": [
    "x = 1\n",
    "y = x + 1\n",
    "\n",
    "print(f\"x: {id(x)}, y: {id(y)}\")"
   ]
  },
  {
   "cell_type": "code",
   "execution_count": 3,
   "id": "b575072b",
   "metadata": {},
   "outputs": [
    {
     "name": "stdout",
     "output_type": "stream",
     "text": [
      "1: 4421905592, 2: 4421905624\n"
     ]
    }
   ],
   "source": [
    "print(f\"1: {id(1)}, 2: {id(2)}\")"
   ]
  },
  {
   "cell_type": "markdown",
   "id": "911fffbc",
   "metadata": {},
   "source": [
    "Since the mathematical operation requires y to have the value 2, y now gets bound to object 2. This happens because the value of object 1 cannot be changed, so the binding is changed instead.\n",
    "\n"
   ]
  },
  {
   "cell_type": "markdown",
   "id": "6c01cdb8",
   "metadata": {},
   "source": [
    "Objects such as 1 whose values cannot be changed are called immutable. Other such immutable types are str(i.e., letters), float, bool.\n",
    "\n",
    "There are also objects whose values can be changed. These types are called mutable and include lists and dictionaries and instances of classes. These behave differently, as highlighted in the problem above.\n",
    "\n",
    "Here is the code from the ‘problem’ with some explanations.\n",
    "\n"
   ]
  },
  {
   "cell_type": "code",
   "execution_count": 4,
   "id": "ee153184",
   "metadata": {},
   "outputs": [],
   "source": [
    "# x is bound to a list object with a value [1 ,2]\n",
    "x = [1, 2]\n",
    "\n",
    "# y is bound to the SAME list object with a value [1 ,2]\n",
    "y = x\n",
    "\n",
    "# y is used to change the value of the object from  [1, 2] to [1, 2, 3]\n",
    "y.append(3)"
   ]
  },
  {
   "attachments": {},
   "cell_type": "markdown",
   "id": "123456",
   "metadata": {},
   "source": [
    "## 6.3 A solution"
   ]
  },
  {
   "cell_type": "markdown",
   "id": "d381c875",
   "metadata": {},
   "source": [
    "If you really want y to have an independent copy of x, you should use:"
   ]
  },
  {
   "cell_type": "code",
   "execution_count": 5,
   "id": "92e1eae4",
   "metadata": {},
   "outputs": [],
   "source": [
    "y = x.copy()"
   ]
  },
  {
   "attachments": {},
   "cell_type": "markdown",
   "id": "123456",
   "metadata": {},
   "source": [
    "# 7 == is not the same as is"
   ]
  },
  {
   "cell_type": "markdown",
   "id": "128175f7",
   "metadata": {},
   "source": [
    "Python has several ways of comparing ‘items’. == and is are two examples. Here is the difference between them:\n",
    "\n"
   ]
  },
  {
   "cell_type": "markdown",
   "id": "5cc644c4",
   "metadata": {},
   "source": [
    "x is y checks for identity. i. e., it asks if x and y are bound to the same object by comparing the ID.\n",
    "\n",
    "x == y checks for equality by running a function that checks for equality (such as _eq_ of a class). You will understand more of this as we develop the idea of classes in later chapters."
   ]
  },
  {
   "attachments": {},
   "cell_type": "markdown",
   "id": "123456",
   "metadata": {},
   "source": [
    "## Footnotes"
   ]
  }
 ],
 "metadata": {
  "kernelspec": {
   "display_name": "base",
   "language": "python",
   "name": "python3"
  },
  "language_info": {
   "codemirror_mode": {
    "name": "ipython",
    "version": 3
   },
   "file_extension": ".py",
   "mimetype": "text/x-python",
   "name": "python",
   "nbconvert_exporter": "python",
   "pygments_lexer": "ipython3",
   "version": "3.13.5"
  },
  "toc": {
   "base_numbering": 1,
   "nav_menu": {},
   "number_sections": true,
   "sideBar": true,
   "skip_h1_title": false,
   "title_cell": "Table of Contents",
   "title_sidebar": "Contents",
   "toc_cell": false,
   "toc_position": {},
   "toc_section_display": true,
   "toc_window_display": false
  }
 },
 "nbformat": 4,
 "nbformat_minor": 5
}
