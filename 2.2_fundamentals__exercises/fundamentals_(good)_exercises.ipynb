{
 "cells": [
  {
   "attachments": {},
   "cell_type": "markdown",
   "id": "123456",
   "metadata": {},
   "source": [
    "<div style=\"text-align:left;font-size:2em\"><span style=\"font-weight:bolder;font-size:1.25em\">SP2273 | Learning Portfolio</span><br><br><span style=\"font-weight:bold;color:darkred\">Fundamentals (Good) Exercises</span></div>"
   ]
  },
  {
   "cell_type": "markdown",
   "id": "3ba11463",
   "metadata": {},
   "source": [
    "## Exercise 1 (f-strings to the rescue)"
   ]
  },
  {
   "cell_type": "markdown",
   "id": "7dcaf5a4",
   "metadata": {},
   "source": [
    "### Example 1"
   ]
  },
  {
   "cell_type": "code",
   "execution_count": null,
   "id": "ab75d3ab",
   "metadata": {},
   "outputs": [
    {
     "name": "stdout",
     "output_type": "stream",
     "text": [
      "You entered 3\n"
     ]
    }
   ],
   "source": [
    "user_input = input('Please provide me with a number?')\n",
    "print('You entered', user_input)"
   ]
  },
  {
   "cell_type": "markdown",
   "id": "eb7bbaba",
   "metadata": {},
   "source": [
    "### Task 1\n"
   ]
  },
  {
   "cell_type": "code",
   "execution_count": 42,
   "id": "e68d1bf6",
   "metadata": {},
   "outputs": [
    {
     "name": "stdout",
     "output_type": "stream",
     "text": [
      "How you doin EEE !\n"
     ]
    }
   ],
   "source": [
    "user_input = input('Please provide me with your name?')\n",
    "print('How you doin', user_input.upper(),'!')"
   ]
  },
  {
   "cell_type": "markdown",
   "id": "96b6638d",
   "metadata": {},
   "source": [
    "### Task 2"
   ]
  },
  {
   "cell_type": "code",
   "execution_count": 43,
   "id": "9a56d937",
   "metadata": {},
   "outputs": [
    {
     "name": "stdout",
     "output_type": "stream",
     "text": [
      "My name is EEE and I am 10 years old.\n"
     ]
    }
   ],
   "source": [
    "user_name = input('Please provide me with your name?')\n",
    "user_age = input('Please provide me with your age?')\n",
    "print('My name is', user_name.upper(),'and I am', user_age, 'years old.')"
   ]
  },
  {
   "cell_type": "markdown",
   "id": "0ff12432",
   "metadata": {},
   "source": [
    "### Task 3"
   ]
  },
  {
   "cell_type": "code",
   "execution_count": 10,
   "id": "3d8007e9",
   "metadata": {},
   "outputs": [
    {
     "name": "stdout",
     "output_type": "stream",
     "text": [
      "3.14\n",
      "3.142\n",
      "3.1416\n"
     ]
    }
   ],
   "source": [
    "pi = 3.141592653589793\n",
    "print(f\"{pi:.2f}\")\n",
    "print(f\"{pi:.3f}\")\n",
    "print(f\"{pi:.4f}\")"
   ]
  },
  {
   "cell_type": "markdown",
   "id": "f3f1bc47",
   "metadata": {},
   "source": [
    "### Task 4"
   ]
  },
  {
   "cell_type": "code",
   "execution_count": 21,
   "id": "7c92111a",
   "metadata": {},
   "outputs": [
    {
     "name": "stdout",
     "output_type": "stream",
     "text": [
      "Apple      $ 0.99\n",
      "Banana     $ 0.59\n",
      "Orange     $ 1.29\n"
     ]
    }
   ],
   "source": [
    "fruit1 = \"Apple\"\n",
    "fruit2 = \"Banana\"\n",
    "fruit3 = \"Orange\"\n",
    "price1 = \"$ 0.99\"\n",
    "price2 = \"$ 0.59\"\n",
    "price3 = \"$ 1.29\"\n",
    "print(f\"{fruit1:<10}\", f\"{price1:>6}\")\n",
    "print(f\"{fruit2:<10}\", f\"{price2:>6}\")\n",
    "print(f\"{fruit3:<10}\", f\"{price3:>6}\")"
   ]
  },
  {
   "cell_type": "markdown",
   "id": "2a820062",
   "metadata": {},
   "source": [
    "## Exercise 2 (What is your grade?)"
   ]
  },
  {
   "cell_type": "code",
   "execution_count": 39,
   "id": "ca687100",
   "metadata": {},
   "outputs": [
    {
     "name": "stdout",
     "output_type": "stream",
     "text": [
      "Enter the student's score; 60\n",
      "The student's letter grade is: B\n"
     ]
    }
   ],
   "source": [
    "user_score = int(input(\"Please input student's score?\"))\n",
    "if 70<=user_score<=100:\n",
    "    print(\"Enter the student's score;\", user_score)\n",
    "    print(\"The student's letter grade is: A\")\n",
    "elif 50<=user_score<=69:\n",
    "    print(\"Enter the student's score;\", user_score)\n",
    "    print(\"The student's letter grade is: B\")\n",
    "elif 35<=user_score<=49:\n",
    "    print(\"Enter the student's score;\", user_score)\n",
    "    print(\"The student's letter grade is: C\")\n",
    "elif 0<=user_score<=34:\n",
    "    print(\"Enter the student's score;\", user_score)\n",
    "    print(\"The student's letter grade is: Fail\")\n",
    "else:\n",
    "    print(\"Error! Score is out of range\")\n"
   ]
  },
  {
   "cell_type": "markdown",
   "id": "dc603aa5",
   "metadata": {},
   "source": [
    "## Exercise 3 (Debugging Code)"
   ]
  },
  {
   "cell_type": "code",
   "execution_count": 41,
   "id": "71f4cace",
   "metadata": {},
   "outputs": [
    {
     "name": "stdout",
     "output_type": "stream",
     "text": [
      "120\n",
      "Invalid input\n"
     ]
    }
   ],
   "source": [
    "def factorial(n):\n",
    "    if n < 0:\n",
    "        return \"Invalid input\"\n",
    "    elif n == 0:\n",
    "        return 1\n",
    "    else:\n",
    "        result = 1\n",
    "        for number in range(1, n+1):\n",
    "            result *= number\n",
    "        return result\n",
    "\n",
    "\n",
    "print(factorial(5))   # Testing, expected output: 120\n",
    "print(factorial(-1))  # Testing, expected output: Invalid input"
   ]
  }
 ],
 "metadata": {
  "kernelspec": {
   "display_name": "base",
   "language": "python",
   "name": "python3"
  },
  "language_info": {
   "codemirror_mode": {
    "name": "ipython",
    "version": 3
   },
   "file_extension": ".py",
   "mimetype": "text/x-python",
   "name": "python",
   "nbconvert_exporter": "python",
   "pygments_lexer": "ipython3",
   "version": "3.13.5"
  },
  "toc": {
   "base_numbering": 1,
   "nav_menu": {},
   "number_sections": true,
   "sideBar": true,
   "skip_h1_title": false,
   "title_cell": "Table of Contents",
   "title_sidebar": "Contents",
   "toc_cell": false,
   "toc_position": {},
   "toc_section_display": true,
   "toc_window_display": false
  }
 },
 "nbformat": 4,
 "nbformat_minor": 5
}
