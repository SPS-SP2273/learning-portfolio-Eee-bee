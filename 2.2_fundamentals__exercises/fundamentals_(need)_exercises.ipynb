{
 "cells": [
  {
   "attachments": {},
   "cell_type": "markdown",
   "id": "123456",
   "metadata": {},
   "source": [
    "<div style=\"text-align:left;font-size:2em\"><span style=\"font-weight:bolder;font-size:1.25em\">SP2273 | Learning Portfolio</span><br><br><span style=\"font-weight:bold;color:darkred\">Fundamentals (Need) Exercises</span></div>"
   ]
  },
  {
   "cell_type": "markdown",
   "id": "663c212f",
   "metadata": {},
   "source": [
    "# Exercise 1 (Total recall?) ☻\n"
   ]
  },
  {
   "cell_type": "markdown",
   "id": "2923b46b",
   "metadata": {},
   "source": [
    "1. = is not the same as ==. = assigns a value while == checks if it is True or False\n",
    "2. .split() splits words on a string apart\n",
    "3. . indicates ownership\n",
    "4. packages like numpy and math can be imported into python\n",
    "5. \"age\" is not the same as age. \"age\" is a word while age is a variable and can be assigned a value. \n",
    "6. Python is case sensitive; Print() is not the same as priunt()\n",
    "7. placing # at the front of the line maens that anything between # and the end of the line is considered a comment and will not be executed"
   ]
  },
  {
   "cell_type": "markdown",
   "id": "5e3a1f4f",
   "metadata": {},
   "source": [
    "# Exercise 2 (Debug me) ☻"
   ]
  },
  {
   "cell_type": "code",
   "execution_count": 1,
   "id": "645548e6",
   "metadata": {},
   "outputs": [
    {
     "name": "stdout",
     "output_type": "stream",
     "text": [
      "3 4 5\n"
     ]
    }
   ],
   "source": [
    "import math\n",
    "x, y = 3, 4\n",
    "z = int(math.sqrt(x**2 + y**2))\n",
    "print(x, y, z)"
   ]
  },
  {
   "cell_type": "markdown",
   "id": "8dad66f0",
   "metadata": {},
   "source": [
    "# Exercise 3 (In your own words) ☻"
   ]
  },
  {
   "cell_type": "markdown",
   "id": "8137c625",
   "metadata": {},
   "source": [
    "|#|Term|Description|\n",
    "|:--:|:--|:---:|\n",
    "|1|Function|A function has a set of instructions that takes an input and returns an output|\n",
    "|2|Arguments|Arguments are the inputs entered into the parenthesis of a function|\n",
    "|3|Comments|Anything written behind # to the end of the line is considered a comment and will not be executed|\n",
    "|4|Indentations|Indentations arebmade using the tab button to separate blocks of code|\n",
    "|5|Packages|Packages introduces new functions to python|\n",
    "|6|.|A . is used to show ownership|\n",
    "|7|:|: is used to mark the end of a header and can be use to format tables|\n",
    "|8|[]|[] is used for lists of data|\n",
    "|9|[[],[]]|[[],[]] is a 2d list; it has a list within a list|\n",
    "|10|{}|{} is used to store data in a dicitonary|"
   ]
  },
  {
   "cell_type": "markdown",
   "id": "a2bb66c4",
   "metadata": {},
   "source": [
    "# Exercise 4 (More than one way to divide) ☻\n"
   ]
  },
  {
   "cell_type": "code",
   "execution_count": 7,
   "id": "e76f9b91",
   "metadata": {},
   "outputs": [
    {
     "data": {
      "text/plain": [
       "2.5"
      ]
     },
     "execution_count": 7,
     "metadata": {},
     "output_type": "execute_result"
    }
   ],
   "source": [
    "5/2"
   ]
  },
  {
   "cell_type": "markdown",
   "id": "cf6372d0",
   "metadata": {},
   "source": [
    "5/2 returns a float"
   ]
  },
  {
   "cell_type": "code",
   "execution_count": 8,
   "id": "f11dd13f",
   "metadata": {},
   "outputs": [
    {
     "data": {
      "text/plain": [
       "2"
      ]
     },
     "execution_count": 8,
     "metadata": {},
     "output_type": "execute_result"
    }
   ],
   "source": [
    "5//2          "
   ]
  },
  {
   "cell_type": "markdown",
   "id": "cf849742",
   "metadata": {},
   "source": [
    "5//2 returns the integer portion of the answer."
   ]
  },
  {
   "cell_type": "code",
   "execution_count": 9,
   "id": "eb488cf0",
   "metadata": {},
   "outputs": [
    {
     "data": {
      "text/plain": [
       "1"
      ]
     },
     "execution_count": 9,
     "metadata": {},
     "output_type": "execute_result"
    }
   ],
   "source": [
    "5%2          "
   ]
  },
  {
   "cell_type": "markdown",
   "id": "6999ce92",
   "metadata": {},
   "source": [
    "5%2 returns the remainder. % is a modulo operator. "
   ]
  }
 ],
 "metadata": {
  "kernelspec": {
   "display_name": "base",
   "language": "python",
   "name": "python3"
  },
  "language_info": {
   "codemirror_mode": {
    "name": "ipython",
    "version": 3
   },
   "file_extension": ".py",
   "mimetype": "text/x-python",
   "name": "python",
   "nbconvert_exporter": "python",
   "pygments_lexer": "ipython3",
   "version": "3.13.5"
  },
  "toc": {
   "base_numbering": 1,
   "nav_menu": {},
   "number_sections": true,
   "sideBar": true,
   "skip_h1_title": false,
   "title_cell": "Table of Contents",
   "title_sidebar": "Contents",
   "toc_cell": false,
   "toc_position": {},
   "toc_section_display": true,
   "toc_window_display": false
  }
 },
 "nbformat": 4,
 "nbformat_minor": 5
}
