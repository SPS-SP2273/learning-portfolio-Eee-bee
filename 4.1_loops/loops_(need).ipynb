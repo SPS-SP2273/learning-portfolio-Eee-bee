{
 "cells": [
  {
   "attachments": {},
   "cell_type": "markdown",
   "id": "123456",
   "metadata": {},
   "source": [
    "<div style=\"text-align:left;font-size:2em\"><span style=\"font-weight:bolder;font-size:1.25em\">SP2273 | Learning Portfolio</span><br><br><span style=\"font-weight:bold;color:darkred\">Loops (Need)</span></div>"
   ]
  },
  {
   "attachments": {},
   "cell_type": "markdown",
   "id": "123456",
   "metadata": {},
   "source": [
    "# What to expect in this chapter"
   ]
  },
  {
   "cell_type": "markdown",
   "id": "c67bbe2d",
   "metadata": {},
   "source": [
    "2 mechanisms for looping:\n",
    "- for loop\n",
    "- while loop"
   ]
  },
  {
   "attachments": {},
   "cell_type": "markdown",
   "id": "123456",
   "metadata": {},
   "source": [
    "# 1 The for iterator"
   ]
  },
  {
   "cell_type": "markdown",
   "id": "3c98ca87",
   "metadata": {},
   "source": [
    "Let’s say I want to print a message corresponding to every superhero in the following list.\n",
    "\n",
    "real_names = [\"Natasha Romanoff\", \"Tony Stark\", \"Stephen Strange\"]\n",
    "\n",
    "Poor way of doing it:"
   ]
  },
  {
   "cell_type": "code",
   "execution_count": null,
   "id": "2dc0b8c0",
   "metadata": {},
   "outputs": [
    {
     "name": "stdout",
     "output_type": "stream",
     "text": [
      "Natasha Romanoff is a Marvel superhero!\n",
      "Tony Stark is a Marvel superhero!\n",
      "Stephen Strange is a Marvel superhero!\n"
     ]
    }
   ],
   "source": [
    "real_names = [\"Natasha Romanoff\", \"Tony Stark\", \"Stephen Strange\"]\n",
    "\n",
    "name=real_names[0]\n",
    "print(f\"{name} is a Marvel superhero!\")\n",
    "\n",
    "name=real_names[1]\n",
    "print(f\"{name} is a Marvel superhero!\")\n",
    "\n",
    "name=real_names[2]\n",
    "print(f\"{name} is a Marvel superhero!\")"
   ]
  },
  {
   "cell_type": "markdown",
   "id": "6461bf68",
   "metadata": {},
   "source": [
    "This way of programming is not very good because:\n",
    "\n",
    "- it does **not scale** very well (imagine if you have a 100 names!),\n",
    "- it is **cumbersome to make changes**, you have to do it three times.\n",
    "- it is **highly error prone**, since you need to type something new (even if you are copying and pasting most of it).\n"
   ]
  },
  {
   "attachments": {},
   "cell_type": "markdown",
   "id": "123456",
   "metadata": {},
   "source": [
    "## 1.1 for with a list"
   ]
  },
  {
   "cell_type": "code",
   "execution_count": null,
   "id": "aa5f5b65",
   "metadata": {},
   "outputs": [
    {
     "name": "stdout",
     "output_type": "stream",
     "text": [
      "name is a Marvel superhero!\n",
      "name is a Marvel superhero!\n",
      "name is a Marvel superhero!\n"
     ]
    }
   ],
   "source": [
    "# To achieve the same result as above using a for loop\n",
    "for name in real_names:\n",
    "    print(f\"{name} is a Marvel superhero!\")"
   ]
  },
  {
   "cell_type": "markdown",
   "id": "7d2d1605",
   "metadata": {},
   "source": [
    "Notice the structure of the for loop;\n",
    "\n",
    "- it goes through the list and assigns name the value of each element of the list.\n",
    "- it then runs the code-block using this value of name.\n",
    "- the code block is deginted by using : and tabs like with if.\n",
    "\n",
    "for can be used to directly loop through a list\n"
   ]
  },
  {
   "attachments": {},
   "cell_type": "markdown",
   "id": "123456",
   "metadata": {},
   "source": [
    "## 1.2 for with enumerate"
   ]
  },
  {
   "cell_type": "markdown",
   "id": "69aa1cf4",
   "metadata": {},
   "source": [
    "Using information from more than 1 list"
   ]
  },
  {
   "cell_type": "code",
   "execution_count": 6,
   "id": "5a391fe5",
   "metadata": {},
   "outputs": [],
   "source": [
    "super_names = [\"Black Widow\", \"Iron Man\", \"Doctor Strange\"]\n",
    "real_names = [\"Natasha Romanoff\", \"Tony Stark\", \"Stephen Strange\"]"
   ]
  },
  {
   "cell_type": "markdown",
   "id": "1df2ed09",
   "metadata": {},
   "source": [
    "Since the for loop only accepts one list, we need to do something else to access the data in both lists. One option is to use enumerate(). \n"
   ]
  },
  {
   "cell_type": "code",
   "execution_count": 7,
   "id": "4eb5d0bc",
   "metadata": {},
   "outputs": [
    {
     "name": "stdout",
     "output_type": "stream",
     "text": [
      "0: Natasha Romanoff is a Marvel superhero!\n",
      "1: Tony Stark is a Marvel superhero!\n",
      "2: Stephen Strange is a Marvel superhero!\n"
     ]
    }
   ],
   "source": [
    "for count, name in enumerate(real_names):\n",
    "    print(f'{count}: {name} is a Marvel superhero!')"
   ]
  },
  {
   "cell_type": "markdown",
   "id": "e4e2c041",
   "metadata": {},
   "source": [
    "You can think of enumerate() as something that keeps count. In the above example, enumerate() not only gives the elements of the list, it also gives you a number (that is stored in count).\n",
    "\n",
    "**we can use the count given by enumerate() to index the other list!**\n",
    "\n"
   ]
  },
  {
   "cell_type": "code",
   "execution_count": 8,
   "id": "d62cc8fd",
   "metadata": {},
   "outputs": [
    {
     "name": "stdout",
     "output_type": "stream",
     "text": [
      "Natasha Romanoff is Black Widow!\n",
      "Tony Stark is Iron Man!\n",
      "Stephen Strange is Doctor Strange!\n"
     ]
    }
   ],
   "source": [
    "for index, name in enumerate(real_names):\n",
    "    superhero_name = super_names[index]\n",
    "    print(f'{name} is {superhero_name}!')"
   ]
  },
  {
   "cell_type": "code",
   "execution_count": null,
   "id": "b4f2e461",
   "metadata": {},
   "outputs": [
    {
     "name": "stdout",
     "output_type": "stream",
     "text": [
      "1 Natasha Romanoff\n",
      "2 Tony Stark\n",
      "3 Stephen Strange\n",
      "\n",
      "1 Natasha Romanoff\n",
      "1 Tony Stark\n",
      "1 Stephen Strange\n",
      "\n",
      "0 Natasha Romanoff\n",
      "0 Tony Stark\n",
      "0 Stephen Strange\n"
     ]
    }
   ],
   "source": [
    "real_names = [\"Natasha Romanoff\", \"Tony Stark\", \"Stephen Strange\"]\n",
    "count = 0\n",
    "for count, name in enumerate(real_names, start = 1):\n",
    "    print(count, name)\n",
    "\n",
    "print() # prints an empty line\n",
    "for name in real_names:\n",
    "    second_count = 0 # count resets to 0 for each round\n",
    "    second_count += 1 # count becomes 1\n",
    "    print(second_count, name)\n",
    "\n",
    "print()\n",
    "third_count = 0\n",
    "for name in real_names:\n",
    "    print(third_count, name) # count remains at 0\n",
    "third_count += 1      # indentation matters"
   ]
  },
  {
   "cell_type": "markdown",
   "id": "48b449b4",
   "metadata": {},
   "source": [
    "### Important notes:\n",
    "1. Notice how the variable name used with enumerate() changes across the 2 examples (count and index) to match their logical use. This makes it easy to immediately see what you are doing (i.e., the intention) wiht the code. Python does not really care abot this, but remember that we write programmes\n",
    "1. Although by default, enumerate() starts counting from 0, we can easily change it to start at another value, say 100.\n",
    "1. for can be combined with enumerate() to count while looping through a list\n",
    "\n"
   ]
  },
  {
   "cell_type": "code",
   "execution_count": 9,
   "id": "bc346459",
   "metadata": {},
   "outputs": [
    {
     "name": "stdout",
     "output_type": "stream",
     "text": [
      "100: Natasha Romanoff is a Marvel superhero!\n",
      "101: Tony Stark is a Marvel superhero!\n",
      "102: Stephen Strange is a Marvel superhero!\n"
     ]
    }
   ],
   "source": [
    "for count, name in enumerate(real_names, 100):\n",
    "    print(f'{count}: {name} is a Marvel superhero!')"
   ]
  },
  {
   "attachments": {},
   "cell_type": "markdown",
   "id": "123456",
   "metadata": {},
   "source": [
    "## 1.3 for with range"
   ]
  },
  {
   "cell_type": "markdown",
   "id": "2ba10d9a",
   "metadata": {},
   "source": [
    "Another way to achieve the result above is by using the function range()\n",
    "Functions like range() and enumerate() only work with looping structures."
   ]
  },
  {
   "cell_type": "code",
   "execution_count": 11,
   "id": "bfa18495",
   "metadata": {},
   "outputs": [
    {
     "name": "stdout",
     "output_type": "stream",
     "text": [
      "0\n",
      "1\n",
      "2\n",
      "3\n",
      "4\n"
     ]
    }
   ],
   "source": [
    "for i in range(5): # 5 loops, starting with 0\n",
    "    print(i)"
   ]
  },
  {
   "cell_type": "code",
   "execution_count": 14,
   "id": "afc3abed",
   "metadata": {},
   "outputs": [
    {
     "name": "stdout",
     "output_type": "stream",
     "text": [
      "5\n",
      "6\n",
      "7\n",
      "8\n",
      "9\n"
     ]
    }
   ],
   "source": [
    "for i in range(5, 10):\n",
    "    print(i)"
   ]
  },
  {
   "cell_type": "code",
   "execution_count": 16,
   "id": "32f14dca",
   "metadata": {},
   "outputs": [
    {
     "name": "stdout",
     "output_type": "stream",
     "text": [
      "1\n",
      "4\n",
      "7\n"
     ]
    }
   ],
   "source": [
    "for i in range(1, 10, 3): # adjust step\n",
    "    print(i)"
   ]
  },
  {
   "cell_type": "code",
   "execution_count": null,
   "id": "acc73b60",
   "metadata": {},
   "outputs": [
    {
     "name": "stdout",
     "output_type": "stream",
     "text": [
      "0\n",
      "2\n",
      "4\n",
      "6\n",
      "8\n",
      "10\n",
      "12\n",
      "14\n",
      "16\n",
      "18\n",
      "20\n",
      "22\n",
      "24\n",
      "26\n",
      "28\n",
      "\n",
      "\n",
      "0\n",
      "2\n",
      "4\n",
      "6\n",
      "8\n",
      "10\n",
      "12\n",
      "14\n",
      "16\n",
      "18\n",
      "20\n",
      "22\n",
      "24\n",
      "26\n"
     ]
    }
   ],
   "source": [
    "for i in range(0, 1000, 2):\n",
    "    print(i)\n",
    "    if i>27:\n",
    "        break # stops at 28\n",
    "print()\n",
    "print()\n",
    "# what happens if I move the print statement\n",
    "for i in range(0, 1000, 2):\n",
    "    if i > 27:\n",
    "        break\n",
    "    print(i) # breaks before print, stops at 26"
   ]
  },
  {
   "cell_type": "code",
   "execution_count": 17,
   "id": "d3b9dfa5",
   "metadata": {},
   "outputs": [
    {
     "name": "stdout",
     "output_type": "stream",
     "text": [
      "Natasha Romanoff is Marvel's Black Widow!\n",
      "Tony Stark is Marvel's Iron Man!\n",
      "Stephen Strange is Marvel's Doctor Strange!\n"
     ]
    }
   ],
   "source": [
    "# returning to the initial problem of printing superhero names,\n",
    "for i in range(len(real_names)):\n",
    "    real_name = real_names[i]\n",
    "    super_name = super_names[i]        \n",
    "    print(f\"{real_name} is Marvel's {super_name}!\")"
   ]
  },
  {
   "attachments": {},
   "cell_type": "markdown",
   "id": "123456",
   "metadata": {},
   "source": [
    "# 2 while"
   ]
  },
  {
   "cell_type": "code",
   "execution_count": 18,
   "id": "8f3014ef",
   "metadata": {},
   "outputs": [
    {
     "name": "stdout",
     "output_type": "stream",
     "text": [
      "0\n",
      "1\n",
      "2\n",
      "3\n",
      "4\n"
     ]
    }
   ],
   "source": [
    "number = 0\n",
    "\n",
    "while number < 5:\n",
    "    print(number)\n",
    "    number += 1"
   ]
  },
  {
   "cell_type": "markdown",
   "id": "aeddd23a",
   "metadata": {},
   "source": [
    "A while loop is set up so that it keeps on running while a condition is True. So the while loop checks the condition at the start and begins another loop if it is True."
   ]
  },
  {
   "cell_type": "markdown",
   "id": "86415559",
   "metadata": {},
   "source": [
    "# Others"
   ]
  },
  {
   "cell_type": "code",
   "execution_count": null,
   "id": "93d48cf6",
   "metadata": {},
   "outputs": [
    {
     "name": "stdout",
     "output_type": "stream",
     "text": [
      "x*180/np.pi=57.2957795131 np.sin(x)=0.84147098 np.tan(x)=1.55740772 False\n",
      "x*180/np.pi=28.6478897565 np.sin(x)=0.47942554 np.tan(x)=0.54630249 False\n",
      "x*180/np.pi=14.3239448783 np.sin(x)=0.24740396 np.tan(x)=0.25534192 False\n",
      "x*180/np.pi=7.1619724391 np.sin(x)=0.12467473 np.tan(x)=0.12565514 False\n",
      "x*180/np.pi=3.5809862196 np.sin(x)=0.06245932 np.tan(x)=0.06258151 False\n",
      "x*180/np.pi=1.7904931098 np.sin(x)=0.03124491 np.tan(x)=0.03126018 False\n",
      "x*180/np.pi=0.8952465549 np.sin(x)=0.01562436 np.tan(x)=0.01562627 False\n",
      "x*180/np.pi=0.4476232774 np.sin(x)=0.00781242 np.tan(x)=0.00781266 False\n",
      "x*180/np.pi=0.2238116387 np.sin(x)=0.00390624 np.tan(x)=0.00390627 True\n",
      "x*180/np.pi=0.1119058194 np.sin(x)=0.00195312 np.tan(x)=0.00195313 True\n",
      "\n",
      "\n",
      "x*180/np.pi=57.2957795131 np.sin(x)=0.84147098 np.tan(x)=1.55740772 False\n",
      "x*180/np.pi=28.6478897565 np.sin(x)=0.47942554 np.tan(x)=0.54630249 False\n",
      "x*180/np.pi=14.3239448783 np.sin(x)=0.24740396 np.tan(x)=0.25534192 False\n",
      "x*180/np.pi=7.1619724391 np.sin(x)=0.12467473 np.tan(x)=0.12565514 False\n",
      "x*180/np.pi=3.5809862196 np.sin(x)=0.06245932 np.tan(x)=0.06258151 False\n",
      "x*180/np.pi=1.7904931098 np.sin(x)=0.03124491 np.tan(x)=0.03126018 False\n",
      "x*180/np.pi=0.8952465549 np.sin(x)=0.01562436 np.tan(x)=0.01562627 False\n",
      "x*180/np.pi=0.4476232774 np.sin(x)=0.00781242 np.tan(x)=0.00781266 False\n",
      "x*180/np.pi=0.2238116387 np.sin(x)=0.00390624 np.tan(x)=0.00390627 True\n",
      "x*180/np.pi=0.1119058194 np.sin(x)=0.00195312 np.tan(x)=0.00195313 True\n"
     ]
    }
   ],
   "source": [
    "import numpy as np\n",
    "x = 1\n",
    "while x > 1E-3:\n",
    "    print(\n",
    "        f'{x*180/np.pi=:.10f}', #convert to degree\n",
    "        f'{np.sin(x)=:.8f}',\n",
    "        f'{np.tan(x)=:.8f}',\n",
    "        np.isclose(np.sin(x),np.tan(x))) # To check if sin and tan are close\n",
    "    x /= 2\n",
    "    # if we want to use a for loop we need to know the number of iterations\n",
    "print()\n",
    "print()\n",
    "x = 1\n",
    "for _ in range(10):\n",
    "    print(\n",
    "        f'{x*180/np.pi=:.10f}', #convert to degree\n",
    "        f'{np.sin(x)=:.8f}',\n",
    "        f'{np.tan(x)=:.8f}',\n",
    "        np.isclose(np.sin(x),np.tan(x))) # To check if sin and tan are close\n",
    "    x /= 2 \n",
    "    # if we want to use a for loop we need to know the number of iterations"
   ]
  }
 ],
 "metadata": {
  "kernelspec": {
   "display_name": "base",
   "language": "python",
   "name": "python3"
  },
  "language_info": {
   "codemirror_mode": {
    "name": "ipython",
    "version": 3
   },
   "file_extension": ".py",
   "mimetype": "text/x-python",
   "name": "python",
   "nbconvert_exporter": "python",
   "pygments_lexer": "ipython3",
   "version": "3.13.5"
  },
  "toc": {
   "base_numbering": 1,
   "nav_menu": {},
   "number_sections": true,
   "sideBar": true,
   "skip_h1_title": false,
   "title_cell": "Table of Contents",
   "title_sidebar": "Contents",
   "toc_cell": false,
   "toc_position": {},
   "toc_section_display": true,
   "toc_window_display": false
  }
 },
 "nbformat": 4,
 "nbformat_minor": 5
}
