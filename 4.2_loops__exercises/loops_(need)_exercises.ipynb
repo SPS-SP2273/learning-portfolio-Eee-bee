{
 "cells": [
  {
   "attachments": {},
   "cell_type": "markdown",
   "id": "123456",
   "metadata": {},
   "source": [
    "<div style=\"text-align:left;font-size:2em\"><span style=\"font-weight:bolder;font-size:1.25em\">SP2273 | Learning Portfolio</span><br><br><span style=\"font-weight:bold;color:darkred\">Loops (Need) Exercises</span></div>"
   ]
  },
  {
   "cell_type": "markdown",
   "id": "6ce05e2b",
   "metadata": {},
   "source": [
    "## Exercise 1 (Celsius to Fahrenheit) ☻\n",
    "\n"
   ]
  },
  {
   "cell_type": "code",
   "execution_count": 8,
   "id": "531172a6",
   "metadata": {},
   "outputs": [
    {
     "name": "stdout",
     "output_type": "stream",
     "text": [
      "0 32.0\n",
      "5 41.0\n",
      "10 50.0\n",
      "15 59.0\n",
      "20 68.0\n",
      "25 77.0\n",
      "30 86.0\n",
      "35 95.0\n",
      "40 104.0\n",
      "45 113.0\n",
      "50 122.0\n"
     ]
    }
   ],
   "source": [
    "temperatures_celsius = [\n",
    "    0, 5, 10, 15, 20, 25,\n",
    "    30, 35, 40, 45, 50\n",
    "]\n",
    "for i in temperatures_celsius:\n",
    "    temperatures_fahrenheit = ((9/5)*(i))+32\n",
    "    print(i, temperatures_fahrenheit)"
   ]
  },
  {
   "cell_type": "markdown",
   "id": "fb557878",
   "metadata": {},
   "source": [
    "## Exercise 2 (Multiplication table) ☻\n",
    "\n"
   ]
  },
  {
   "cell_type": "markdown",
   "id": "6c49e017",
   "metadata": {},
   "source": [
    "### Example"
   ]
  },
  {
   "cell_type": "code",
   "execution_count": 9,
   "id": "866b8744",
   "metadata": {},
   "outputs": [
    {
     "name": "stdout",
     "output_type": "stream",
     "text": [
      "A1\tA2\tA3\t\n",
      "\n",
      "B1\tB2\tB3\t\n",
      "\n",
      "C1\tC2\tC3\t\n",
      "\n"
     ]
    }
   ],
   "source": [
    "for letter in ['A', 'B', 'C']:\n",
    "    for number in [1, 2, 3]:\n",
    "        print(f'{letter}{number}', end='\\t')\n",
    "    print('\\n')"
   ]
  },
  {
   "cell_type": "markdown",
   "id": "037f2981",
   "metadata": {},
   "source": [
    "### Task"
   ]
  },
  {
   "cell_type": "code",
   "execution_count": 39,
   "id": "870334ee",
   "metadata": {},
   "outputs": [
    {
     "name": "stdout",
     "output_type": "stream",
     "text": [
      "1: 1 2 3 4 5\n",
      "2: 2 4 6 8 10\n",
      "3: 3 6 9 12 15\n",
      "4: 4 8 12 16 20\n",
      "5: 5 10 15 20 25\n"
     ]
    }
   ],
   "source": [
    "numbers = [1, 2, 3, 4, 5]\n",
    "for i in numbers:\n",
    "    s = \"\"\n",
    "    for x in numbers:\n",
    "        s += \" \"+str(i*x)\n",
    "    print(str(i) + \":\" + s)"
   ]
  },
  {
   "cell_type": "markdown",
   "id": "e641a0b2",
   "metadata": {},
   "source": [
    "## Exercise 3 (Simulating a Coin Flip Experiment)  \n",
    "\n"
   ]
  },
  {
   "cell_type": "markdown",
   "id": "5706eefa",
   "metadata": {},
   "source": [
    "### Task"
   ]
  },
  {
   "cell_type": "code",
   "execution_count": null,
   "id": "d1bc1f3e",
   "metadata": {},
   "outputs": [
    {
     "name": "stdout",
     "output_type": "stream",
     "text": [
      "Experiment 0:No. of Heads = 8\n",
      "Experiment 1:No. of Heads = 10\n",
      "Experiment 2:No. of Heads = 3\n",
      "Experiment 3:No. of Heads = 5\n",
      "Experiment 4:No. of Heads = 7\n",
      "Experiment 5:No. of Heads = 6\n",
      "Experiment 6:No. of Heads = 10\n",
      "Experiment 7:No. of Heads = 9\n",
      "Experiment 8:No. of Heads = 3\n",
      "Experiment 9:No. of Heads = 6\n"
     ]
    }
   ],
   "source": [
    "# WRONG\n",
    "import numpy as np\n",
    "np_array = np.random.rand(10)\n",
    "for count, number in enumerate(np_array):\n",
    "    print(\"Experiment \" + str(count) + \":\" \"No. of Heads = \" + str(round(number*10)))\n",
    "\n",
    "# What I did: generating a np_array with 10 random numbers and multiplying each number by 10 to give you the number of heads.\n",
    "# correct mtd: generating 10 sets of np_array with 10 random numbers. For each np_array, count the number of numbers > 0.5 to give you the number of heads for that set"
   ]
  },
  {
   "cell_type": "code",
   "execution_count": 3,
   "id": "83d30298",
   "metadata": {},
   "outputs": [
    {
     "name": "stdout",
     "output_type": "stream",
     "text": [
      "Experiment 1: No. of Heads = 2\n",
      "Experiment 2: No. of Heads = 5\n",
      "Experiment 3: No. of Heads = 5\n",
      "Experiment 4: No. of Heads = 5\n",
      "Experiment 5: No. of Heads = 4\n",
      "Experiment 6: No. of Heads = 3\n",
      "Experiment 7: No. of Heads = 4\n",
      "Experiment 8: No. of Heads = 7\n",
      "Experiment 9: No. of Heads = 6\n",
      "Experiment 10: No. of Heads = 5\n"
     ]
    }
   ],
   "source": [
    "# Correction \n",
    "import numpy as np\n",
    "for count in range(1,11):\n",
    "    np_array = np.random.rand(10)\n",
    "    num_heads = 0\n",
    "    for value in np_array:\n",
    "        if value > 0.5:\n",
    "            num_heads += 1\n",
    "        else:\n",
    "            continue\n",
    "    print(\"Experiment \" + str(count) + \": \" \"No. of Heads = \" + str(num_heads))"
   ]
  }
 ],
 "metadata": {
  "kernelspec": {
   "display_name": "base",
   "language": "python",
   "name": "python3"
  },
  "language_info": {
   "codemirror_mode": {
    "name": "ipython",
    "version": 3
   },
   "file_extension": ".py",
   "mimetype": "text/x-python",
   "name": "python",
   "nbconvert_exporter": "python",
   "pygments_lexer": "ipython3",
   "version": "3.13.5"
  },
  "toc": {
   "base_numbering": 1,
   "nav_menu": {},
   "number_sections": true,
   "sideBar": true,
   "skip_h1_title": false,
   "title_cell": "Table of Contents",
   "title_sidebar": "Contents",
   "toc_cell": false,
   "toc_position": {},
   "toc_section_display": true,
   "toc_window_display": false
  }
 },
 "nbformat": 4,
 "nbformat_minor": 5
}
