{
 "cells": [
  {
   "attachments": {},
   "cell_type": "markdown",
   "id": "123456",
   "metadata": {},
   "source": [
    "<div style=\"text-align:left;font-size:2em\"><span style=\"font-weight:bolder;font-size:1.25em\">SP2273 | Learning Portfolio</span><br><br><span style=\"font-weight:bold;color:darkred\">Storing Data (Need) Exercises</span></div>"
   ]
  },
  {
   "cell_type": "code",
   "execution_count": 9,
   "id": "99d89c92",
   "metadata": {},
   "outputs": [],
   "source": [
    "import numpy as np"
   ]
  },
  {
   "cell_type": "markdown",
   "id": "d599912b",
   "metadata": {},
   "source": [
    "## Exercise 1 (Total recall?) ☻\n"
   ]
  },
  {
   "cell_type": "markdown",
   "id": "f9e2ceea",
   "metadata": {},
   "source": [
    "1. 2 similarities between lists and arrays\n",
    "    - Both store information\n",
    "    - Elements can be accessed via indexing\n",
    "2. 2 differences between lists and arrays\n",
    "    - One list can be added to another list but one array cannot be added to another array\n",
    "    - When adding a number(n) to an array, all elements will increase by n; this will not work for arrays\n",
    "3. What is a dicitonary\n",
    "    - A dictionary consists of a key and value; the key can be used to retrieve the value"
   ]
  },
  {
   "cell_type": "markdown",
   "id": "4b00eda2",
   "metadata": {},
   "source": [
    "## Exercise 2 (Indexing) ☻"
   ]
  },
  {
   "cell_type": "code",
   "execution_count": 4,
   "id": "b2c106db",
   "metadata": {},
   "outputs": [
    {
     "name": "stdout",
     "output_type": "stream",
     "text": [
      "a1 c3 e5 g7 i9\n"
     ]
    }
   ],
   "source": [
    "py_list = [\"a1\", \"b2\", \"c3\", \"d4\", \"e5\", \"f6\", \"g7\", \"h8\", \"i9\", \"j10\"]\n",
    "                    # Prints 'a1'\n",
    "                    # Prints 'c3'\n",
    "                    # Prints 'e5'\n",
    "                    # Prints 'g7'\n",
    "print(py_list[0], py_list[2], py_list[4], py_list[6], py_list[8])   # Prints 'i9'"
   ]
  },
  {
   "cell_type": "markdown",
   "id": "99836b9b",
   "metadata": {},
   "source": [
    "## Exercise 3 (Index again) ☻"
   ]
  },
  {
   "cell_type": "code",
   "execution_count": 5,
   "id": "522054d8",
   "metadata": {},
   "outputs": [],
   "source": [
    "elements = ['Hydrogen',\n",
    "            'Helium', 'Lithium',\n",
    "            'Beryllium', 'Boron', 'Carbon',\n",
    "            'Nitrogen', 'Oxygen',\n",
    "            'Fluorine',\n",
    "            'Neon']"
   ]
  },
  {
   "cell_type": "markdown",
   "id": "24f1b1a7",
   "metadata": {},
   "source": [
    "### 1. Access and print the element at index 4 using forward indexing."
   ]
  },
  {
   "cell_type": "code",
   "execution_count": 6,
   "id": "50d8f51c",
   "metadata": {},
   "outputs": [
    {
     "name": "stdout",
     "output_type": "stream",
     "text": [
      "Boron\n"
     ]
    }
   ],
   "source": [
    "print(elements[4])"
   ]
  },
  {
   "cell_type": "code",
   "execution_count": 7,
   "id": "899ec324",
   "metadata": {},
   "outputs": [
    {
     "name": "stdout",
     "output_type": "stream",
     "text": [
      "Boron\n"
     ]
    }
   ],
   "source": [
    "print(elements[-6])"
   ]
  },
  {
   "cell_type": "markdown",
   "id": "cef21054",
   "metadata": {},
   "source": [
    "## Exercise 4 (How many ones) ☻\n",
    "\n"
   ]
  },
  {
   "cell_type": "code",
   "execution_count": 8,
   "id": "f0311a0f",
   "metadata": {},
   "outputs": [],
   "source": [
    "numbers=[45, 60, 1, 30, 96, 1, 96, 57, 16, 1,\n",
    "        99, 62, 86, 43, 42, 60, 59, 1, 1, 35,\n",
    "        83, 47, 34, 28, 68, 23, 22, 92, 1, 79,\n",
    "        1, 29, 94, 72, 46, 47, 1, 74, 32, 20,\n",
    "        8, 37, 35, 1, 89, 29, 86, 19, 43, 61]                  "
   ]
  },
  {
   "cell_type": "code",
   "execution_count": 28,
   "id": "dead865a",
   "metadata": {},
   "outputs": [
    {
     "name": "stdout",
     "output_type": "stream",
     "text": [
      "9\n"
     ]
    }
   ],
   "source": [
    "num_array = np.array(numbers)\n",
    "new_array = num_array == 1\n",
    "print(new_array.sum())"
   ]
  },
  {
   "cell_type": "code",
   "execution_count": null,
   "id": "da22b8ec",
   "metadata": {},
   "outputs": [
    {
     "name": "stdout",
     "output_type": "stream",
     "text": [
      "9\n"
     ]
    }
   ],
   "source": [
    "# ignore\n",
    "num_array = np.array(numbers)\n",
    "new_array = num_array == 1\n",
    "sum = 0\n",
    "for i in new_array : \n",
    "    if i == True:\n",
    "        sum += 1\n",
    "    else:\n",
    "        continue\n",
    "print (sum)"
   ]
  },
  {
   "cell_type": "markdown",
   "id": "6b43d8d8",
   "metadata": {},
   "source": [
    "## Exercise 5 (A Matter of Statistics)"
   ]
  },
  {
   "cell_type": "code",
   "execution_count": 19,
   "id": "a6dffb9e",
   "metadata": {},
   "outputs": [],
   "source": [
    "x_1 = [1, 4, 9, 16, 25, 36, 49, 64, 81, 100]\n",
    "x_2 = [1, 8, 27, 64, 125, 216, 343, 512, 729, 1000]"
   ]
  },
  {
   "cell_type": "markdown",
   "id": "44da5b46",
   "metadata": {},
   "source": [
    "### Determine the means of $x_{1}$ and $x_{2}$"
   ]
  },
  {
   "cell_type": "code",
   "execution_count": 21,
   "id": "cfff9075",
   "metadata": {},
   "outputs": [
    {
     "name": "stdout",
     "output_type": "stream",
     "text": [
      "38.5\n",
      "302.5\n"
     ]
    }
   ],
   "source": [
    "print(np.mean(x_1))\n",
    "print(np.mean(x_2))"
   ]
  },
  {
   "cell_type": "markdown",
   "id": "6cabc43e",
   "metadata": {},
   "source": [
    "### Determine the standard deviations of $x_{1}$ and $x_{2}$\n"
   ]
  },
  {
   "cell_type": "code",
   "execution_count": 22,
   "id": "3f5e43aa",
   "metadata": {},
   "outputs": [
    {
     "name": "stdout",
     "output_type": "stream",
     "text": [
      "32.41990129534635\n",
      "326.0893282522444\n"
     ]
    }
   ],
   "source": [
    "print(np.std(x_1))\n",
    "print(np.std(x_2))"
   ]
  },
  {
   "cell_type": "markdown",
   "id": "901e7af0",
   "metadata": {},
   "source": [
    "### Determine the Pearson correlation coefficient $r$ for the two datasets. Don’t use np.corrcoef()!\n"
   ]
  },
  {
   "cell_type": "code",
   "execution_count": 36,
   "id": "a2b631f3",
   "metadata": {},
   "outputs": [
    {
     "name": "stdout",
     "output_type": "stream",
     "text": [
      "2.996917280077402\n"
     ]
    }
   ],
   "source": [
    "std1 = np.std(x_1)\n",
    "std2 = np.std(x_2)\n",
    "x1x2 = np.array(x_1)*np.array(x_2)\n",
    "std12 = np.std(x1x2)\n",
    "r = (std12)/(std1*std2)\n",
    "print(r)"
   ]
  },
  {
   "cell_type": "code",
   "execution_count": 42,
   "id": "e44f906e",
   "metadata": {},
   "outputs": [
    {
     "name": "stdout",
     "output_type": "stream",
     "text": [
      "0.9871796626270701\n"
     ]
    }
   ],
   "source": [
    "x1_array = np.array(x_1)\n",
    "x2_array = np.array(x_2)\n",
    "mean1 = np.mean(x_1)\n",
    "mean2 = np.mean(x_2)\n",
    "r = (np.sum((x1_array - mean1)*(x2_array - mean2)))/np.sqrt(np.sum((x1_array - mean1)**2)*np.sum((x2_array - mean2)**2))\n",
    "print(r)"
   ]
  },
  {
   "cell_type": "markdown",
   "id": "69230975",
   "metadata": {},
   "source": [
    "### Compare your results to np.corrcoef().\n"
   ]
  },
  {
   "cell_type": "code",
   "execution_count": 32,
   "id": "2cd5c6e0",
   "metadata": {},
   "outputs": [
    {
     "data": {
      "text/plain": [
       "array([[1.        , 0.98717966],\n",
       "       [0.98717966, 1.        ]])"
      ]
     },
     "execution_count": 32,
     "metadata": {},
     "output_type": "execute_result"
    }
   ],
   "source": [
    "np.corrcoef(x_1, x_2)"
   ]
  },
  {
   "cell_type": "markdown",
   "id": "356ad499",
   "metadata": {},
   "source": [
    "Using np.corrcoef(), r = 0.98717966.\n",
    "Hence, results are similar."
   ]
  }
 ],
 "metadata": {
  "kernelspec": {
   "display_name": "base",
   "language": "python",
   "name": "python3"
  },
  "language_info": {
   "codemirror_mode": {
    "name": "ipython",
    "version": 3
   },
   "file_extension": ".py",
   "mimetype": "text/x-python",
   "name": "python",
   "nbconvert_exporter": "python",
   "pygments_lexer": "ipython3",
   "version": "3.13.5"
  },
  "toc": {
   "base_numbering": 1,
   "nav_menu": {},
   "number_sections": true,
   "sideBar": true,
   "skip_h1_title": false,
   "title_cell": "Table of Contents",
   "title_sidebar": "Contents",
   "toc_cell": false,
   "toc_position": {},
   "toc_section_display": true,
   "toc_window_display": false
  }
 },
 "nbformat": 4,
 "nbformat_minor": 5
}
