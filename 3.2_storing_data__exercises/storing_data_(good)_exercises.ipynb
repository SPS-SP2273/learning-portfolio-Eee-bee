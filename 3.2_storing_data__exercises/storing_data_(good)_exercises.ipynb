{
 "cells": [
  {
   "attachments": {},
   "cell_type": "markdown",
   "id": "123456",
   "metadata": {},
   "source": [
    "<div style=\"text-align:left;font-size:2em\"><span style=\"font-weight:bolder;font-size:1.25em\">SP2273 | Learning Portfolio</span><br><br><span style=\"font-weight:bold;color:darkred\">Storing Data (Good) Exercises</span></div>"
   ]
  },
  {
   "cell_type": "markdown",
   "id": "5283fcb3",
   "metadata": {},
   "source": [
    "## Exercise 1 (Total recall) ☻"
   ]
  },
  {
   "cell_type": "markdown",
   "id": "d30b0d14",
   "metadata": {},
   "source": [
    "|Term|Brief description|\n",
    "|:--|:--|\n",
    "|Subsetting|selecting element(s)|\n",
    "|Indexing|selects one elememt from a list/array|\n",
    "|Slicing|can select more than one elememt from a list/array|\n",
    "|Masking|selects elements that satisfy a given condition or answers questions using True/False|"
   ]
  },
  {
   "cell_type": "markdown",
   "id": "2f16e031",
   "metadata": {},
   "source": [
    "## Exercise 2 (Show me the ‘odd’ letters) ☻\n",
    "\n"
   ]
  },
  {
   "cell_type": "markdown",
   "id": "3ece65e8",
   "metadata": {},
   "source": [
    "astype() is used to convert the data types of elements within a NumPy array into a specific data type. "
   ]
  },
  {
   "cell_type": "code",
   "execution_count": 2,
   "id": "72b1eb11",
   "metadata": {},
   "outputs": [],
   "source": [
    "import numpy as np\n",
    "np_array_2d = np.array([[1, \"A\"], [3, \"C\"], [2, \"B\"], [4, \"D\"],\n",
    "                        [5, \"E\"], [7, \"G\"], [6, \"F\"], [8, \"H\"],\n",
    "                        [10, \"J\"], [9, \"I\"]])"
   ]
  },
  {
   "cell_type": "code",
   "execution_count": null,
   "id": "099003cb",
   "metadata": {},
   "outputs": [
    {
     "name": "stdout",
     "output_type": "stream",
     "text": [
      "[ True  True False False  True  True False False False  True]\n",
      "['A' 'C' 'E' 'G' 'I']\n"
     ]
    }
   ],
   "source": [
    "new = np_array_2d[:,0] #Subset all the first elements\n",
    "new_int = new.astype(int) #Convert to integers\n",
    "new_int2 = new_int%2 #use % to get the remainder for division by 2\n",
    "mask = new_int2 == 1 # mask that checks if the remainder is zero or not\n",
    "print(mask)\n",
    "second_element = np_array_2d[:,1] # array with all the second elememts\n",
    "print(second_element[mask]) # apply mask on the second element array"
   ]
  },
  {
   "cell_type": "markdown",
   "id": "9fd0a0e3",
   "metadata": {},
   "source": [
    "## Exercise 3  \n",
    "\n"
   ]
  },
  {
   "cell_type": "code",
   "execution_count": 35,
   "id": "a21816bf",
   "metadata": {},
   "outputs": [
    {
     "name": "stdout",
     "output_type": "stream",
     "text": [
      "[[ 1  0  1 -1 -1]\n",
      " [ 1 -1  1 -1 -1]\n",
      " [ 1 -1 -1  1 -1]\n",
      " [-1  1  1 -1 -1]\n",
      " [ 1 -1  1 -1  1]]\n"
     ]
    }
   ],
   "source": [
    "x = [[66, 50, 57, -1, -1],\n",
    " [92, -1, 88, -1, -1],\n",
    " [75, -1, -1, 76, -1],\n",
    " [-1, 51, 87, -1, -1],\n",
    " [71, -1, 67, -1, 69]]\n",
    "np_array = np.array(x)\n",
    "mask = np_array < 50 # change values below 50 to -1\n",
    "np_array[mask] = -1\n",
    "mask2 = np_array > 50 # change values above 50 to +1\n",
    "np_array[mask2] = +1\n",
    "mask3 = np_array == 50 # change values equal to 50 to 0\n",
    "np_array[mask3] = 0\n",
    "print(np_array)"
   ]
  }
 ],
 "metadata": {
  "kernelspec": {
   "display_name": "base",
   "language": "python",
   "name": "python3"
  },
  "language_info": {
   "codemirror_mode": {
    "name": "ipython",
    "version": 3
   },
   "file_extension": ".py",
   "mimetype": "text/x-python",
   "name": "python",
   "nbconvert_exporter": "python",
   "pygments_lexer": "ipython3",
   "version": "3.13.5"
  },
  "toc": {
   "base_numbering": 1,
   "nav_menu": {},
   "number_sections": true,
   "sideBar": true,
   "skip_h1_title": false,
   "title_cell": "Table of Contents",
   "title_sidebar": "Contents",
   "toc_cell": false,
   "toc_position": {},
   "toc_section_display": true,
   "toc_window_display": false
  }
 },
 "nbformat": 4,
 "nbformat_minor": 5
}
