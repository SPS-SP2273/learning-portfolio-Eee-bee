{
 "cells": [
  {
   "attachments": {},
   "cell_type": "markdown",
   "id": "123456",
   "metadata": {},
   "source": [
    "<div style=\"text-align:left;font-size:2em\"><span style=\"font-weight:bolder;font-size:1.25em\">SP2273 | Learning Portfolio</span><br><br><span style=\"font-weight:bold;color:darkred\">Using Jupyter (Need)</span></div>"
   ]
  },
  {
   "attachments": {},
   "cell_type": "markdown",
   "id": "70352a9f",
   "metadata": {
    "jp-MarkdownHeadingCollapsed": true
   },
   "source": [
    "# What to expect in this chapter"
   ]
  },
  {
   "attachments": {},
   "cell_type": "markdown",
   "id": "7cf078f7",
   "metadata": {
    "jp-MarkdownHeadingCollapsed": true
   },
   "source": [
    "# 1 Getting ready"
   ]
  },
  {
   "attachments": {},
   "cell_type": "markdown",
   "id": "483932b5",
   "metadata": {},
   "source": [
    "# 2 Getting started with Jupyter"
   ]
  },
  {
   "attachments": {},
   "cell_type": "markdown",
   "id": "e537cdde",
   "metadata": {},
   "source": [
    "## 2.1 It is all about running cells"
   ]
  },
  {
   "cell_type": "markdown",
   "id": "1c3d769a-6e41-4287-8bdb-b722cbb3b752",
   "metadata": {},
   "source": [
    "## 2.2 A traditional start"
   ]
  },
  {
   "cell_type": "code",
   "execution_count": 1,
   "id": "560210b5",
   "metadata": {},
   "outputs": [
    {
     "name": "stdout",
     "output_type": "stream",
     "text": [
      "Hello\n",
      "HelloHelloHelloHelloHelloHelloHelloHelloHelloHello\n"
     ]
    }
   ],
   "source": [
    "print('Hello')\n",
    "print('Hello'*10)  #prints hello ten times"
   ]
  },
  {
   "attachments": {},
   "cell_type": "markdown",
   "id": "e06171c8",
   "metadata": {},
   "source": [
    "# 3 All about Markdown"
   ]
  },
  {
   "attachments": {},
   "cell_type": "markdown",
   "id": "43234bdb",
   "metadata": {
    "jp-MarkdownHeadingCollapsed": true
   },
   "source": [
    "## 3.1 Rendering Markdown cells\n",
    "The ships *hung in the sky* in much the same way that **bricks don’t.**<sup>1</sup><sub>QUOTE</sub>"
   ]
  },
  {
   "attachments": {},
   "cell_type": "markdown",
   "id": "c13002b5",
   "metadata": {},
   "source": [
    "## 3.2 Some basic syntax"
   ]
  },
  {
   "attachments": {},
   "cell_type": "markdown",
   "id": "368f326f",
   "metadata": {},
   "source": [
    "## 3.3 Headings\n",
    "# The largest heading\n",
    "## The second-largest heading\n",
    "### The third-largest heading\n",
    "#### The smallest heading"
   ]
  },
  {
   "attachments": {},
   "cell_type": "markdown",
   "id": "c8d979be",
   "metadata": {
    "jp-MarkdownHeadingCollapsed": true
   },
   "source": [
    "## 3.4 Displaying Code\n",
    "`print('Hello World!')`"
   ]
  },
  {
   "attachments": {},
   "cell_type": "markdown",
   "id": "f5d71cd4",
   "metadata": {
    "jp-MarkdownHeadingCollapsed": true
   },
   "source": [
    "## 3.5 Links\n",
    "[SP2273 Website](https://sps.nus.edu.sg/sp2273)"
   ]
  },
  {
   "cell_type": "markdown",
   "id": "d9904183",
   "metadata": {},
   "source": [
    "## 3.6 Images\n",
    "![](https://nus.edu.sg/images/default-source/base/logo.png)\n"
   ]
  },
  {
   "attachments": {},
   "cell_type": "markdown",
   "id": "39a696e4",
   "metadata": {},
   "source": [
    "## 3.7 Tables\n",
    "| A    |  B   |    C |\n",
    "| :--- | :--: | ---: |\n",
    "| a1   |  b1  |   c1 |\n",
    "| a2   |  b2  |   c2 |\n",
    "| a3   |  b3  |   c3 |\n",
    "\n",
    "The colons affect where the corresponding elements in the column are at\n",
    "- :--- means elements are on the left\n",
    "- :--: menas the elements are in the centre\n",
    "- ---: means elements are on the right"
   ]
  },
  {
   "attachments": {},
   "cell_type": "markdown",
   "id": "091d571e",
   "metadata": {},
   "source": [
    "## 3.8 Lists\n",
    "1. Master Yoda\n",
    "1. Luke Skywalker\n",
    "1. Anakin Skywalker\n",
    "\n",
    "- Master Yoda\n",
    "- Luke Skywalker\n",
    "- Anakin Skywalker\n",
    "\n",
    "\n",
    "1. Master Yoda\n",
    "   1. Was a Jedi\n",
    "   1. Was a bit green\n",
    "1. Luke Skywalker\n",
    "   1. Was a Jedi\n",
    "   1. Is Anakin's son.\n",
    "1. Anakin Skywalker\n",
    "   1. Was a Jedi then became a baddie\n",
    "   1. Is famous for saying 'Luke, I am your father'\n",
    "\n",
    "- hi\n",
    "- ho\n",
    "- ha\n",
    "\n",
    "1. Master Yoda\n",
    "   - Was a Jedi\n",
    "   - Was a bit green\n",
    "1. Luke Skywalker\n",
    "   - Was a Jedi\n",
    "   - Is Anakin's son.\n",
    "1. Anakin Skywalker\n",
    "   - Was a Jedi then, became a baddie\n",
    "   - Is famous for saying, _'Luke, I am your father'_."
   ]
  },
  {
   "attachments": {},
   "cell_type": "markdown",
   "id": "919973c5",
   "metadata": {},
   "source": [
    "## 3.9 Equations\n",
    "$\\sqrt{b^2-4ac}$\n",
    "$$\n",
    "x = \\dfrac{-b \\pm \\sqrt{b^2-4ac}}{2a}\n",
    "$$\n",
    "$\\dfrac{y}{x}$\n",
    "$x_{a}$\n",
    "$x^{(y+z)}$\n",
    "$b^2$\n",
    "$\\sqrt{a+b+c}$\n",
    "$\\sum_{n=1}^{n=\\infty} x_n$\n",
    "$\\int_{x=1}^{x=\\infty} f(x)dx$\n",
    "$a \\ne b$\n",
    "$a \\lt b$\n",
    "$a \\leq b$\n",
    "$a \\gt b$\n",
    "$a \\geq b$\n",
    "$\\alpha$\n",
    "$\\beta, \\gamma, \\pi, \\lambda$"
   ]
  },
  {
   "cell_type": "markdown",
   "id": "51314390",
   "metadata": {},
   "source": [
    "This is half of $x^2$"
   ]
  },
  {
   "cell_type": "code",
   "execution_count": null,
   "id": "90f35015",
   "metadata": {},
   "outputs": [],
   "source": []
  },
  {
   "attachments": {},
   "cell_type": "markdown",
   "id": "db3f0d57",
   "metadata": {},
   "source": [
    "## Footnotes"
   ]
  }
 ],
 "metadata": {
  "kernelspec": {
   "display_name": "base",
   "language": "python",
   "name": "python3"
  },
  "language_info": {
   "codemirror_mode": {
    "name": "ipython",
    "version": 3
   },
   "file_extension": ".py",
   "mimetype": "text/x-python",
   "name": "python",
   "nbconvert_exporter": "python",
   "pygments_lexer": "ipython3",
   "version": "3.13.5"
  },
  "toc": {
   "base_numbering": 1,
   "nav_menu": {},
   "number_sections": true,
   "sideBar": true,
   "skip_h1_title": false,
   "title_cell": "Table of Contents",
   "title_sidebar": "Contents",
   "toc_cell": false,
   "toc_position": {},
   "toc_section_display": true,
   "toc_window_display": false
  }
 },
 "nbformat": 4,
 "nbformat_minor": 5
}
