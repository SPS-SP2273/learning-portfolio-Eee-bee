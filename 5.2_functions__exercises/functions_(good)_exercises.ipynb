{
 "cells": [
  {
   "attachments": {},
   "cell_type": "markdown",
   "id": "123456",
   "metadata": {},
   "source": [
    "<div style=\"text-align:left;font-size:2em\"><span style=\"font-weight:bolder;font-size:1.25em\">SP2273 | Learning Portfolio</span><br><br><span style=\"font-weight:bold;color:darkred\">Functions (Good) Exercises</span></div>"
   ]
  },
  {
   "cell_type": "markdown",
   "id": "13f73fb1",
   "metadata": {},
   "source": [
    "## Exercise 1 (Celsius to Fahrenheit or Kelvin) ☻\n"
   ]
  },
  {
   "cell_type": "code",
   "execution_count": null,
   "id": "e528018c",
   "metadata": {},
   "outputs": [
    {
     "data": {
      "text/plain": [
       "'78.8 Fahrenheit'"
      ]
     },
     "execution_count": 5,
     "metadata": {},
     "output_type": "execute_result"
    }
   ],
   "source": [
    "def convert_celsius(temperature_celsius, target_scale = \"Fahrenheit\"):\n",
    "    if target_scale == \"Kelvin\":\n",
    "        converted_k = temperature_celsius + 273.15\n",
    "        return str(converted_k) + \" Kelvin\"\n",
    "    else:\n",
    "        converted_f = (temperature_celsius * (9/5)) + 32\n",
    "        return str(converted_f) + \" Fahrenheit\""
   ]
  },
  {
   "cell_type": "markdown",
   "id": "433cabc3",
   "metadata": {},
   "source": [
    "## Exercise 2 (Fahrenheit to Celsius or Kelvin) ☻\n",
    "\n"
   ]
  },
  {
   "cell_type": "code",
   "execution_count": null,
   "id": "32fe9244",
   "metadata": {},
   "outputs": [
    {
     "data": {
      "text/plain": [
       "'0.0 Celsius'"
      ]
     },
     "execution_count": 19,
     "metadata": {},
     "output_type": "execute_result"
    }
   ],
   "source": [
    "def convert_fahrenheit(temperature_fahrenheit, target_scale = \"Celsius\"):\n",
    "    if target_scale == \"Kelvin\":\n",
    "        converted_k = ((temperature_fahrenheit - 32)*(5/9)) + 273.15\n",
    "        return str(converted_k) + \" Kelvin\"\n",
    "    else:\n",
    "        converted_c = ((temperature_fahrenheit - 32)*(5/9))\n",
    "        return str(converted_c) + \" Celsius\"\n"
   ]
  },
  {
   "cell_type": "markdown",
   "id": "7c14278f",
   "metadata": {},
   "source": [
    "## Exercise 3 (General Temperature Conversion) ☻\n",
    "\n"
   ]
  },
  {
   "cell_type": "code",
   "execution_count": null,
   "id": "18ce3e7f",
   "metadata": {},
   "outputs": [
    {
     "data": {
      "text/plain": [
       "'-459.66999999999996 Fahrenheit'"
      ]
     },
     "execution_count": 22,
     "metadata": {},
     "output_type": "execute_result"
    }
   ],
   "source": [
    "def convert_kelvin(temperature_fahrenheit, target_scale = \"Celsius\"):\n",
    "    if target_scale == \"Fahrenheit\":\n",
    "        converted_f = ((temperature_fahrenheit - 273.15)*(9/5)) + 32\n",
    "        return str(converted_f) + \" Fahrenheit\"\n",
    "    else:\n",
    "        converted_c = temperature_fahrenheit - 273.15\n",
    "        return str(converted_c) + \" Celsius\"\n"
   ]
  },
  {
   "cell_type": "code",
   "execution_count": 27,
   "id": "67e6dc09",
   "metadata": {},
   "outputs": [],
   "source": [
    "def convert_temperature(temperature, source_scale, target_scale):\n",
    "    if source_scale == target_scale:\n",
    "        return temperature\n",
    "    elif source_scale == \"Fahrenheit\":\n",
    "        return convert_fahrenheit(temperature, target_scale)\n",
    "    elif source_scale == \"Celsius\":\n",
    "        return convert_celsius(temperature, target_scale)\n",
    "    elif source_scale == \"Kelvin\":\n",
    "        return convert_kelvin(temperature, target_scale)\n"
   ]
  }
 ],
 "metadata": {
  "kernelspec": {
   "display_name": "base",
   "language": "python",
   "name": "python3"
  },
  "language_info": {
   "codemirror_mode": {
    "name": "ipython",
    "version": 3
   },
   "file_extension": ".py",
   "mimetype": "text/x-python",
   "name": "python",
   "nbconvert_exporter": "python",
   "pygments_lexer": "ipython3",
   "version": "3.13.5"
  },
  "toc": {
   "base_numbering": 1,
   "nav_menu": {},
   "number_sections": true,
   "sideBar": true,
   "skip_h1_title": false,
   "title_cell": "Table of Contents",
   "title_sidebar": "Contents",
   "toc_cell": false,
   "toc_position": {},
   "toc_section_display": true,
   "toc_window_display": false
  }
 },
 "nbformat": 4,
 "nbformat_minor": 5
}
