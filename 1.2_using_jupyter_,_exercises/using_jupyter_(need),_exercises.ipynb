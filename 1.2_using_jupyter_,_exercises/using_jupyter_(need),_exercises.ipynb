{
 "cells": [
  {
   "attachments": {},
   "cell_type": "markdown",
   "id": "123456",
   "metadata": {},
   "source": [
    "<div style=\"text-align:left;font-size:2em\"><span style=\"font-weight:bolder;font-size:1.25em\">SP2273 | Learning Portfolio</span><br><br><span style=\"font-weight:bold;color:darkred\">Using Jupyter (Need), Exercises</span></div>"
   ]
  },
  {
   "attachments": {},
   "cell_type": "markdown",
   "id": "9614d390",
   "metadata": {},
   "source": [
    "## 1 Quadratic Equations"
   ]
  },
  {
   "attachments": {},
   "cell_type": "markdown",
   "id": "d771c90c",
   "metadata": {},
   "source": [
    "### Introduction"
   ]
  },
  {
   "cell_type": "markdown",
   "id": "6c1d54ca-dc37-473b-9e90-9da88abe4d4f",
   "metadata": {},
   "source": [
    "![](https://upload.wikimedia.org/wikipedia/commons/thumb/f/f8/Polynomialdeg2.svg/1024px-Polynomialdeg2.svg.png)\n",
    "*(Image from the [Wikipedia page on Quadratic equations](https://en.wikipedia.org/wiki/Quadratic_equation))*\n",
    "\n",
    "The general form of a quadratic equation is:\n",
    "$$\n",
    "ax^2+bx+c=0\n",
    "$$"
   ]
  },
  {
   "attachments": {},
   "cell_type": "markdown",
   "id": "941c9385",
   "metadata": {},
   "source": [
    "### Solutions"
   ]
  },
  {
   "cell_type": "markdown",
   "id": "251959aa-b8bb-45aa-aeef-185b4d217551",
   "metadata": {},
   "source": [
    "Provided $a \\ne 0$, we can use an elementary algebraic method called [completing the square](https://en.wikipedia.org/wiki/Completing_the_square) to show that a quadratic equation has the following solution:\n",
    "\n",
    "$$\n",
    "x = \\dfrac{-b \\pm \\sqrt{b^2-4ac}}{2a}\n",
    "$$"
   ]
  },
  {
   "attachments": {},
   "cell_type": "markdown",
   "id": "e7bb02f0",
   "metadata": {},
   "source": [
    "### Discriminant"
   ]
  },
  {
   "cell_type": "markdown",
   "id": "0c03120c",
   "metadata": {},
   "source": [
    "The quantity $\\Delta = b^2 - 4ac$ is called the **discriminant** of the equatiion and decides the nature of its solutions. The table below shows the various possibilties. \n",
    "\n",
    "| Discriminant |Roots |\n",
    "| :---: | :--------- |\n",
    "|$\\Delta = b^2 - 4ac = 0$|A single solution of $\\dfrac{-b}{(2a)}$|\n",
    "|$\\Delta = b^2 - 4ac \\gt 0$|Two distinct solutions|\n",
    "|$\\Delta = b^2 - 4ac \\lt 0$|No real solutions; both are complex|\n"
   ]
  },
  {
   "cell_type": "markdown",
   "id": "a4f522bc",
   "metadata": {},
   "source": [
    "## Exercise 2\n",
    "\n",
    "1. A Git repository is a storage space is able to store multiple verions of a project\n",
    "1. Git keeps track of **changes** in the files in our repository\n",
    "1. A commit acts as a save button that updates staged changes to the local repository, allowing one to have a better understanding of the timeline of modifications. \n",
    "1. A push uploads the committed changes from the local repository to the remote repository, such as Github\n",
    "1. Github is accessed via web browser, while Github Desktop can be accessed as an application. "
   ]
  },
  {
   "cell_type": "markdown",
   "id": "3354c432",
   "metadata": {
    "vscode": {
     "languageId": "plaintext"
    }
   },
   "source": [
    "##Exercise 3\n",
    "\n",
    "$$\n",
    "\\mu = \\dfrac{1}{n} \\sum_{i = 1}^{n} x_{i}\n",
    "$$\n",
    "$$\n",
    "\\sigma = \\sqrt{\\dfrac{1}{n} \\sum_{i = 1}^{n} (x_{i}-\\mu)^2}\n",
    "$$\n",
    "$$\n",
    "r = \\frac{\\sum_{i = 1}^{n} (x_{i}-\\mu_{X})(y_{i}-\\mu_{Y})}{\\sqrt{\\sum_{i = 1}^{n} (x_{i}-\\mu_{X})^2 \\sum_{i = 1}^{n} (y_{i}-\\mu_{Y})^2}}\n",
    "$$"
   ]
  }
 ],
 "metadata": {
  "kernelspec": {
   "display_name": "Python 3 (ipykernel)",
   "language": "python",
   "name": "python3"
  },
  "language_info": {
   "codemirror_mode": {
    "name": "ipython",
    "version": 3
   },
   "file_extension": ".py",
   "mimetype": "text/x-python",
   "name": "python",
   "nbconvert_exporter": "python",
   "pygments_lexer": "ipython3",
   "version": "3.13.5"
  },
  "toc": {
   "base_numbering": 1,
   "nav_menu": {},
   "number_sections": true,
   "sideBar": true,
   "skip_h1_title": false,
   "title_cell": "Table of Contents",
   "title_sidebar": "Contents",
   "toc_cell": false,
   "toc_position": {},
   "toc_section_display": true,
   "toc_window_display": false
  },
  "vscode": {
   "interpreter": {
    "hash": "31f2aee4e71d21fbe5cf8b01ff0e069b9275f58929596ceb00d14d90e3e16cd6"
   }
  }
 },
 "nbformat": 4,
 "nbformat_minor": 5
}
