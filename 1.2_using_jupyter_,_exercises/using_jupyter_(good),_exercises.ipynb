{
 "cells": [
  {
   "attachments": {},
   "cell_type": "markdown",
   "id": "123456",
   "metadata": {},
   "source": [
    "<div style=\"text-align:left;font-size:2em\"><span style=\"font-weight:bolder;font-size:1.25em\">SP2273 | Learning Portfolio</span><br><br><span style=\"font-weight:bold;color:darkred\">Using Jupyter (Good), Exercises</span></div>"
   ]
  },
  {
   "cell_type": "markdown",
   "id": "de3dfe71-f7ce-4ce7-96bc-ec6ce73d5df0",
   "metadata": {},
   "source": [
    "# Exercise 1(Learning to interrupt)"
   ]
  },
  {
   "cell_type": "code",
   "execution_count": 3,
   "id": "ef922864",
   "metadata": {},
   "outputs": [],
   "source": [
    "#while True:\n",
    "#    print('*', end='')"
   ]
  },
  {
   "cell_type": "markdown",
   "id": "3a47dad5",
   "metadata": {},
   "source": [
    "## To interrupt the code in VS code:\n",
    "### 1. Using Kernel\n",
    "Select Kernel on the top left hand side of the navigation bar and then select \"Interrupt Kernel\".\n",
    "\n",
    "### 2. Using Keyboard Shortcut\n",
    "Press the \"I\" key twice.\n"
   ]
  },
  {
   "cell_type": "markdown",
   "id": "27a28749-9f14-40b9-9e93-67eefbd20817",
   "metadata": {},
   "source": [
    "# Exercise 2 (Resetting & Restarting the Kernal)"
   ]
  },
  {
   "cell_type": "code",
   "execution_count": 1,
   "id": "a3d6db2c-73e4-42e5-a606-8cb35f3bc29c",
   "metadata": {},
   "outputs": [
    {
     "name": "stdout",
     "output_type": "stream",
     "text": [
      "Hello World\n"
     ]
    }
   ],
   "source": [
    "#print = 'PRINT'\n",
    "print('Hello World')"
   ]
  },
  {
   "cell_type": "markdown",
   "id": "2575429e-aef5-4cc3-b864-27aff304cfb1",
   "metadata": {},
   "source": [
    "## To restart the kernel:\n",
    "Select Kernel on the top left hand side of the navigation bar and then select \"Restart Kernel\" or \"Restart Kernel and Clear Outputs of All Cells\""
   ]
  },
  {
   "cell_type": "markdown",
   "id": "e5ac1b07-3cbd-40a9-96bc-91df6f39bbd6",
   "metadata": {},
   "source": [
    "# Exercise 3 (Timing Stuff) The two code examples below achieve the same end result"
   ]
  },
  {
   "cell_type": "code",
   "execution_count": 13,
   "id": "d0149876-0a8d-4010-b158-4404440808da",
   "metadata": {},
   "outputs": [
    {
     "name": "stdout",
     "output_type": "stream",
     "text": [
      "[0, 1, 4, 9, 16, 25, 36, 49, 64, 81]\n"
     ]
    }
   ],
   "source": [
    "squares = [i**2 for i in range(10)]\n",
    "print(squares)"
   ]
  },
  {
   "cell_type": "code",
   "execution_count": 7,
   "id": "7291ed2f-e2df-40bd-b884-920ee8a2b5d2",
   "metadata": {},
   "outputs": [
    {
     "name": "stdout",
     "output_type": "stream",
     "text": [
      "[0, 1, 4, 9, 16, 25, 36, 49, 64, 81]\n"
     ]
    }
   ],
   "source": [
    "squares = list()\n",
    "for i in range(10):\n",
    "    squares.append(i**2)\n",
    "print(squares)"
   ]
  },
  {
   "cell_type": "code",
   "execution_count": 25,
   "id": "103193a1-6f30-49fa-acd7-61245903ea5c",
   "metadata": {},
   "outputs": [
    {
     "name": "stdout",
     "output_type": "stream",
     "text": [
      "449 ns ± 7.9 ns per loop (mean ± std. dev. of 7 runs, 1,000,000 loops each)\n"
     ]
    }
   ],
   "source": [
    "%%timeit\n",
    "squares = [i**2 for i in range(10)]"
   ]
  },
  {
   "cell_type": "code",
   "execution_count": 24,
   "id": "5553f1db-e448-4c34-9a01-d85f99101e20",
   "metadata": {},
   "outputs": [
    {
     "name": "stdout",
     "output_type": "stream",
     "text": [
      "536 ns ± 14 ns per loop (mean ± std. dev. of 7 runs, 1,000,000 loops each)\n"
     ]
    }
   ],
   "source": [
    "%%timeit\n",
    "squares = list()\n",
    "for i in range(10):\n",
    "    squares.append(i**2)"
   ]
  },
  {
   "cell_type": "markdown",
   "id": "bf1a1757-08de-454a-9027-8db070423635",
   "metadata": {},
   "source": [
    "## Using %%timeit:\n",
    "%%timeit is a magic command in Jupyter Notebooks used to measure execution time of an entire code cell\n",
    "- repeats code a certain number of times and takes the average execution time\n",
    "- automatically determines optimal number of runs\n",
    "- output includes:\n",
    "  - average execution time\n",
    "  - standard deviation\n",
    "\n",
    "squares = [$i^2$ for i in range(10)] has a shorter execution time than squares = list()\n",
    "for i in range(10):\n",
    "    squares.append($i^2$)\n"
   ]
  },
  {
   "attachments": {},
   "cell_type": "markdown",
   "id": "4a415352",
   "metadata": {
    "jp-MarkdownHeadingCollapsed": true
   },
   "source": [
    "## Footnotes"
   ]
  }
 ],
 "metadata": {
  "kernelspec": {
   "display_name": "base",
   "language": "python",
   "name": "python3"
  },
  "language_info": {
   "codemirror_mode": {
    "name": "ipython",
    "version": 3
   },
   "file_extension": ".py",
   "mimetype": "text/x-python",
   "name": "python",
   "nbconvert_exporter": "python",
   "pygments_lexer": "ipython3",
   "version": "3.13.5"
  },
  "toc": {
   "base_numbering": 1,
   "nav_menu": {},
   "number_sections": true,
   "sideBar": true,
   "skip_h1_title": false,
   "title_cell": "Table of Contents",
   "title_sidebar": "Contents",
   "toc_cell": false,
   "toc_position": {},
   "toc_section_display": true,
   "toc_window_display": false
  }
 },
 "nbformat": 4,
 "nbformat_minor": 5
}
